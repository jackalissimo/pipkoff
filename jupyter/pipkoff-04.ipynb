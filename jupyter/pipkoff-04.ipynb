{
 "cells": [
  {
   "cell_type": "code",
   "execution_count": 24,
   "id": "1616f27f",
   "metadata": {},
   "outputs": [],
   "source": [
    "%run scripts/ohlc.py"
   ]
  },
  {
   "cell_type": "code",
   "execution_count": 22,
   "id": "4cb39190",
   "metadata": {},
   "outputs": [
    {
     "data": {
      "text/plain": [
       "[{'currency': 'USD',\n",
       "  'ticker': 'BABA',\n",
       "  'figi': 'BBG006G2JVL2',\n",
       "  'id': 339,\n",
       "  'lot': 1,\n",
       "  'type': 'Stock',\n",
       "  'isin': 'US01609W1027',\n",
       "  'name': 'Alibaba',\n",
       "  'active': 1,\n",
       "  'min_price_increment': 0.01}]"
      ]
     },
     "execution_count": 22,
     "metadata": {},
     "output_type": "execute_result"
    }
   ],
   "source": [
    "get_stock_meta(ticker='BABA')\n"
   ]
  },
  {
   "cell_type": "code",
   "execution_count": 33,
   "id": "a13504c4",
   "metadata": {},
   "outputs": [
    {
     "data": {
      "text/plain": [
       "{'success': True}"
      ]
     },
     "execution_count": 33,
     "metadata": {},
     "output_type": "execute_result"
    }
   ],
   "source": [
    "parse_stocks()"
   ]
  },
  {
   "cell_type": "code",
   "execution_count": 7,
   "id": "532c0289",
   "metadata": {},
   "outputs": [],
   "source": [
    "pf = get_portfolio()\n"
   ]
  },
  {
   "cell_type": "code",
   "execution_count": 21,
   "id": "abe885d4",
   "metadata": {},
   "outputs": [
    {
     "data": {
      "text/plain": [
       "[]"
      ]
     },
     "execution_count": 21,
     "metadata": {},
     "output_type": "execute_result"
    }
   ],
   "source": [
    "ops = get_operations(hours=2)\n",
    "ops"
   ]
  },
  {
   "cell_type": "code",
   "execution_count": null,
   "id": "f4e31e09",
   "metadata": {},
   "outputs": [],
   "source": [
    "%run scripts/ohlc.py\n",
    "parse_candles(ticker='BABA', interval='30min', _from=\"2021-06-01\")"
   ]
  }
 ],
 "metadata": {
  "kernelspec": {
   "display_name": "Python 3 (ipykernel)",
   "language": "python",
   "name": "python3"
  },
  "language_info": {
   "codemirror_mode": {
    "name": "ipython",
    "version": 3
   },
   "file_extension": ".py",
   "mimetype": "text/x-python",
   "name": "python",
   "nbconvert_exporter": "python",
   "pygments_lexer": "ipython3",
   "version": "3.9.6"
  }
 },
 "nbformat": 4,
 "nbformat_minor": 5
}
