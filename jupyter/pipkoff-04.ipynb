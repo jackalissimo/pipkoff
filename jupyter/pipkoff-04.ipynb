{
 "cells": [
  {
   "cell_type": "code",
   "execution_count": 16,
   "id": "f181829a",
   "metadata": {},
   "outputs": [],
   "source": [
    "%run scripts/ohlc.py"
   ]
  },
  {
   "cell_type": "code",
   "execution_count": 8,
   "id": "a8d8cd0a",
   "metadata": {},
   "outputs": [
    {
     "data": {
      "application/vnd.jupyter.widget-view+json": {
       "model_id": "007ced70302e4bd6860f4cc82c859b8a",
       "version_major": 2,
       "version_minor": 0
      },
      "text/plain": [
       "Figure(axes=[Axis(grid_color='gray', label='Date', label_offset='35px', scale=DateScale()), Axis(grid_color='g…"
      ]
     },
     "metadata": {},
     "output_type": "display_data"
    }
   ],
   "source": [
    "show_ohlc('TSLA', 'hour')"
   ]
  },
  {
   "cell_type": "code",
   "execution_count": 9,
   "id": "7dc5e2f9",
   "metadata": {},
   "outputs": [
    {
     "data": {
      "text/plain": [
       "[{'name': 'Alibaba',\n",
       "  'ticker': 'BABA',\n",
       "  'isin': 'US01609W1027',\n",
       "  'min_price_increment': 0.01,\n",
       "  'type': 'Stock',\n",
       "  'active': 1,\n",
       "  'id': 339,\n",
       "  'lot': 1,\n",
       "  'figi': 'BBG006G2JVL2',\n",
       "  'currency': 'USD'}]"
      ]
     },
     "execution_count": 9,
     "metadata": {},
     "output_type": "execute_result"
    }
   ],
   "source": [
    "get_stock_meta(ticker='BABA')\n"
   ]
  },
  {
   "cell_type": "code",
   "execution_count": 32,
   "id": "5727ff57",
   "metadata": {},
   "outputs": [
    {
     "data": {
      "text/plain": [
       "{'success': True}"
      ]
     },
     "execution_count": 32,
     "metadata": {},
     "output_type": "execute_result"
    }
   ],
   "source": [
    "parse_stocks()"
   ]
  }
 ],
 "metadata": {
  "kernelspec": {
   "display_name": "Python 3 (ipykernel)",
   "language": "python",
   "name": "python3"
  },
  "language_info": {
   "codemirror_mode": {
    "name": "ipython",
    "version": 3
   },
   "file_extension": ".py",
   "mimetype": "text/x-python",
   "name": "python",
   "nbconvert_exporter": "python",
   "pygments_lexer": "ipython3",
   "version": "3.9.6"
  }
 },
 "nbformat": 4,
 "nbformat_minor": 5
}
