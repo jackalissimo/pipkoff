{
 "cells": [
  {
   "cell_type": "code",
   "execution_count": 24,
   "id": "1616f27f",
   "metadata": {},
   "outputs": [],
   "source": [
    "%run scripts/ohlc.py"
   ]
  },
  {
   "cell_type": "code",
   "execution_count": 22,
   "id": "4cb39190",
   "metadata": {},
   "outputs": [
    {
     "data": {
      "text/plain": [
       "[{'currency': 'USD',\n",
       "  'ticker': 'BABA',\n",
       "  'figi': 'BBG006G2JVL2',\n",
       "  'id': 339,\n",
       "  'lot': 1,\n",
       "  'type': 'Stock',\n",
       "  'isin': 'US01609W1027',\n",
       "  'name': 'Alibaba',\n",
       "  'active': 1,\n",
       "  'min_price_increment': 0.01}]"
      ]
     },
     "execution_count": 22,
     "metadata": {},
     "output_type": "execute_result"
    }
   ],
   "source": [
    "get_stock_meta(ticker='BABA')\n"
   ]
  },
  {
   "cell_type": "code",
   "execution_count": 33,
   "id": "a13504c4",
   "metadata": {},
   "outputs": [
    {
     "data": {
      "text/plain": [
       "{'success': True}"
      ]
     },
     "execution_count": 33,
     "metadata": {},
     "output_type": "execute_result"
    }
   ],
   "source": [
    "parse_stocks()"
   ]
  },
  {
   "cell_type": "code",
   "execution_count": 7,
   "id": "532c0289",
   "metadata": {},
   "outputs": [],
   "source": [
    "pf = get_portfolio()\n"
   ]
  },
  {
   "cell_type": "code",
   "execution_count": 21,
   "id": "03380b74",
   "metadata": {},
   "outputs": [
    {
     "data": {
      "text/plain": [
       "[]"
      ]
     },
     "execution_count": 21,
     "metadata": {},
     "output_type": "execute_result"
    }
   ],
   "source": [
    "ops = get_operations(hours=2)\n",
    "ops"
   ]
  },
  {
   "cell_type": "code",
   "execution_count": 37,
   "id": "ae08638f",
   "metadata": {},
   "outputs": [
    {
     "data": {
      "text/plain": [
       "{'candles_parsed': 38, 'new': 0, 'old': 38}"
      ]
     },
     "execution_count": 37,
     "metadata": {},
     "output_type": "execute_result"
    }
   ],
   "source": [
    "%run scripts/ohlc.py\n",
    "c = parse_candles(ticker='BABA', interval='30min')\n",
    "c"
   ]
  },
  {
   "cell_type": "code",
   "execution_count": 39,
   "id": "e5533a01",
   "metadata": {},
   "outputs": [
    {
     "data": {
      "text/plain": [
       "[{'figi': 'TCS00A102EQ8',\n",
       "  'operation': 'Buy',\n",
       "  'type': 'Limit',\n",
       "  'price': 0.1146,\n",
       "  'requested_lots': 105,\n",
       "  'executed_lots': 0,\n",
       "  'status': 'New',\n",
       "  'order_id': '25618971469'},\n",
       " {'figi': 'BBG000BH5LT6',\n",
       "  'operation': 'Buy',\n",
       "  'type': 'Limit',\n",
       "  'price': 3.44,\n",
       "  'requested_lots': 2,\n",
       "  'executed_lots': 0,\n",
       "  'status': 'New',\n",
       "  'order_id': '294237036050'},\n",
       " {'figi': 'BBG00A1034T9',\n",
       "  'operation': 'Buy',\n",
       "  'type': 'Limit',\n",
       "  'price': 990.8,\n",
       "  'requested_lots': 1,\n",
       "  'executed_lots': 0,\n",
       "  'status': 'New',\n",
       "  'order_id': '25616485824'}]"
      ]
     },
     "execution_count": 39,
     "metadata": {},
     "output_type": "execute_result"
    }
   ],
   "source": [
    "%run scripts/ohlc.py\n",
    "active_orders = get_orders()\n",
    "active_orders"
   ]
  }
 ],
 "metadata": {
  "kernelspec": {
   "display_name": "Python 3 (ipykernel)",
   "language": "python",
   "name": "python3"
  },
  "language_info": {
   "codemirror_mode": {
    "name": "ipython",
    "version": 3
   },
   "file_extension": ".py",
   "mimetype": "text/x-python",
   "name": "python",
   "nbconvert_exporter": "python",
   "pygments_lexer": "ipython3",
   "version": "3.9.6"
  }
 },
 "nbformat": 4,
 "nbformat_minor": 5
}
