{
 "cells": [
  {
   "cell_type": "code",
   "execution_count": 4,
   "id": "1616f27f",
   "metadata": {},
   "outputs": [],
   "source": [
    "%run scripts/ohlc.py"
   ]
  },
  {
   "cell_type": "code",
   "execution_count": 34,
   "id": "4cb39190",
   "metadata": {},
   "outputs": [
    {
     "data": {
      "text/plain": [
       "[{'name': 'Alibaba',\n",
       "  'ticker': 'BABA',\n",
       "  'isin': 'US01609W1027',\n",
       "  'min_price_increment': 0.01,\n",
       "  'type': 'Stock',\n",
       "  'active': 1,\n",
       "  'id': 339,\n",
       "  'lot': 1,\n",
       "  'figi': 'BBG006G2JVL2',\n",
       "  'currency': 'USD'}]"
      ]
     },
     "execution_count": 34,
     "metadata": {},
     "output_type": "execute_result"
    }
   ],
   "source": [
    "get_stock_meta(ticker='BABA')\n"
   ]
  },
  {
   "cell_type": "code",
   "execution_count": 33,
   "id": "a13504c4",
   "metadata": {},
   "outputs": [
    {
     "data": {
      "text/plain": [
       "{'success': True}"
      ]
     },
     "execution_count": 33,
     "metadata": {},
     "output_type": "execute_result"
    }
   ],
   "source": [
    "parse_stocks()"
   ]
  },
  {
   "cell_type": "code",
   "execution_count": 7,
   "id": "532c0289",
   "metadata": {},
   "outputs": [],
   "source": [
    "pf = get_portfolio()\n"
   ]
  },
  {
   "cell_type": "code",
   "execution_count": 13,
   "id": "2d644643",
   "metadata": {},
   "outputs": [
    {
     "ename": "TypeError",
     "evalue": "get_operations() got an unexpected keyword argument 'ho'",
     "output_type": "error",
     "traceback": [
      "\u001b[0;31m---------------------------------------------------------------------------\u001b[0m",
      "\u001b[0;31mTypeError\u001b[0m                                 Traceback (most recent call last)",
      "\u001b[0;32m/tmp/ipykernel_58/148301001.py\u001b[0m in \u001b[0;36m<module>\u001b[0;34m\u001b[0m\n\u001b[0;32m----> 1\u001b[0;31m \u001b[0mops\u001b[0m \u001b[0;34m=\u001b[0m \u001b[0mget_operations\u001b[0m\u001b[0;34m(\u001b[0m\u001b[0mho\u001b[0m\u001b[0;34m=\u001b[0m\u001b[0;36m2\u001b[0m\u001b[0;34m)\u001b[0m\u001b[0;34m\u001b[0m\u001b[0;34m\u001b[0m\u001b[0m\n\u001b[0m\u001b[1;32m      2\u001b[0m \u001b[0mops\u001b[0m\u001b[0;34m\u001b[0m\u001b[0;34m\u001b[0m\u001b[0m\n",
      "\u001b[0;31mTypeError\u001b[0m: get_operations() got an unexpected keyword argument 'ho'"
     ]
    }
   ],
   "source": [
    "ops = get_operations(ho=2)\n",
    "ops"
   ]
  }
 ],
 "metadata": {
  "kernelspec": {
   "display_name": "Python 3 (ipykernel)",
   "language": "python",
   "name": "python3"
  },
  "language_info": {
   "codemirror_mode": {
    "name": "ipython",
    "version": 3
   },
   "file_extension": ".py",
   "mimetype": "text/x-python",
   "name": "python",
   "nbconvert_exporter": "python",
   "pygments_lexer": "ipython3",
   "version": "3.9.6"
  }
 },
 "nbformat": 4,
 "nbformat_minor": 5
}
