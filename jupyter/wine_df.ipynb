{
 "cells": [
  {
   "cell_type": "code",
   "execution_count": 81,
   "id": "3742bbc8",
   "metadata": {},
   "outputs": [],
   "source": [
    "from datetime import datetime\n",
    "import bqplot\n",
    "from bqplot import pyplot as plt\n",
    "import numpy as np\n",
    "import pandas as pd\n",
    "import sklearn\n",
    "import warnings\n",
    "from bqplot import Tooltip"
   ]
  },
  {
   "cell_type": "code",
   "execution_count": 40,
   "id": "cf29abff",
   "metadata": {},
   "outputs": [
    {
     "name": "stdout",
     "output_type": "stream",
     "text": [
      "<class 'sklearn.utils.Bunch'>\n"
     ]
    }
   ],
   "source": [
    "from sklearn.datasets import load_wine\n",
    "wine = load_wine()\n",
    "print(type(wine))"
   ]
  },
  {
   "cell_type": "code",
   "execution_count": 21,
   "id": "b3e72fac",
   "metadata": {},
   "outputs": [
    {
     "data": {
      "text/plain": [
       "['DESCR', 'data', 'feature_names', 'frame', 'target', 'target_names']"
      ]
     },
     "execution_count": 21,
     "metadata": {},
     "output_type": "execute_result"
    }
   ],
   "source": [
    "dir(wine)"
   ]
  },
  {
   "cell_type": "code",
   "execution_count": 32,
   "id": "12e9f91e",
   "metadata": {},
   "outputs": [
    {
     "data": {
      "text/plain": [
       "['alcohol',\n",
       " 'malic_acid',\n",
       " 'ash',\n",
       " 'alcalinity_of_ash',\n",
       " 'magnesium',\n",
       " 'total_phenols',\n",
       " 'flavanoids',\n",
       " 'nonflavanoid_phenols',\n",
       " 'proanthocyanins',\n",
       " 'color_intensity',\n",
       " 'hue',\n",
       " 'od280/od315_of_diluted_wines',\n",
       " 'proline']"
      ]
     },
     "execution_count": 32,
     "metadata": {},
     "output_type": "execute_result"
    }
   ],
   "source": [
    "wine.feature_names\n"
   ]
  },
  {
   "cell_type": "code",
   "execution_count": 34,
   "id": "13e50f01",
   "metadata": {},
   "outputs": [
    {
     "name": "stdout",
     "output_type": "stream",
     "text": [
      "dataset size:  (178, 13)\n"
     ]
    }
   ],
   "source": [
    "print(\"dataset size: \", wine.data.shape)"
   ]
  },
  {
   "cell_type": "code",
   "execution_count": 44,
   "id": "20a8e92d",
   "metadata": {},
   "outputs": [
    {
     "name": "stdout",
     "output_type": "stream",
     "text": [
      "<class 'pandas.core.frame.DataFrame'>\n"
     ]
    },
    {
     "data": {
      "text/html": [
       "<div>\n",
       "<style scoped>\n",
       "    .dataframe tbody tr th:only-of-type {\n",
       "        vertical-align: middle;\n",
       "    }\n",
       "\n",
       "    .dataframe tbody tr th {\n",
       "        vertical-align: top;\n",
       "    }\n",
       "\n",
       "    .dataframe thead th {\n",
       "        text-align: right;\n",
       "    }\n",
       "</style>\n",
       "<table border=\"1\" class=\"dataframe\">\n",
       "  <thead>\n",
       "    <tr style=\"text-align: right;\">\n",
       "      <th></th>\n",
       "      <th>alcohol</th>\n",
       "      <th>malic_acid</th>\n",
       "      <th>ash</th>\n",
       "      <th>alcalinity_of_ash</th>\n",
       "      <th>magnesium</th>\n",
       "      <th>total_phenols</th>\n",
       "      <th>flavanoids</th>\n",
       "      <th>nonflavanoid_phenols</th>\n",
       "      <th>proanthocyanins</th>\n",
       "      <th>color_intensity</th>\n",
       "      <th>hue</th>\n",
       "      <th>od280/od315_of_diluted_wines</th>\n",
       "      <th>proline</th>\n",
       "      <th>Category</th>\n",
       "    </tr>\n",
       "  </thead>\n",
       "  <tbody>\n",
       "    <tr>\n",
       "      <th>0</th>\n",
       "      <td>14.23</td>\n",
       "      <td>1.71</td>\n",
       "      <td>2.43</td>\n",
       "      <td>15.6</td>\n",
       "      <td>127.0</td>\n",
       "      <td>2.80</td>\n",
       "      <td>3.06</td>\n",
       "      <td>0.28</td>\n",
       "      <td>2.29</td>\n",
       "      <td>5.64</td>\n",
       "      <td>1.04</td>\n",
       "      <td>3.92</td>\n",
       "      <td>1065.0</td>\n",
       "      <td>0</td>\n",
       "    </tr>\n",
       "    <tr>\n",
       "      <th>1</th>\n",
       "      <td>13.20</td>\n",
       "      <td>1.78</td>\n",
       "      <td>2.14</td>\n",
       "      <td>11.2</td>\n",
       "      <td>100.0</td>\n",
       "      <td>2.65</td>\n",
       "      <td>2.76</td>\n",
       "      <td>0.26</td>\n",
       "      <td>1.28</td>\n",
       "      <td>4.38</td>\n",
       "      <td>1.05</td>\n",
       "      <td>3.40</td>\n",
       "      <td>1050.0</td>\n",
       "      <td>0</td>\n",
       "    </tr>\n",
       "    <tr>\n",
       "      <th>2</th>\n",
       "      <td>13.16</td>\n",
       "      <td>2.36</td>\n",
       "      <td>2.67</td>\n",
       "      <td>18.6</td>\n",
       "      <td>101.0</td>\n",
       "      <td>2.80</td>\n",
       "      <td>3.24</td>\n",
       "      <td>0.30</td>\n",
       "      <td>2.81</td>\n",
       "      <td>5.68</td>\n",
       "      <td>1.03</td>\n",
       "      <td>3.17</td>\n",
       "      <td>1185.0</td>\n",
       "      <td>0</td>\n",
       "    </tr>\n",
       "    <tr>\n",
       "      <th>3</th>\n",
       "      <td>14.37</td>\n",
       "      <td>1.95</td>\n",
       "      <td>2.50</td>\n",
       "      <td>16.8</td>\n",
       "      <td>113.0</td>\n",
       "      <td>3.85</td>\n",
       "      <td>3.49</td>\n",
       "      <td>0.24</td>\n",
       "      <td>2.18</td>\n",
       "      <td>7.80</td>\n",
       "      <td>0.86</td>\n",
       "      <td>3.45</td>\n",
       "      <td>1480.0</td>\n",
       "      <td>0</td>\n",
       "    </tr>\n",
       "    <tr>\n",
       "      <th>4</th>\n",
       "      <td>13.24</td>\n",
       "      <td>2.59</td>\n",
       "      <td>2.87</td>\n",
       "      <td>21.0</td>\n",
       "      <td>118.0</td>\n",
       "      <td>2.80</td>\n",
       "      <td>2.69</td>\n",
       "      <td>0.39</td>\n",
       "      <td>1.82</td>\n",
       "      <td>4.32</td>\n",
       "      <td>1.04</td>\n",
       "      <td>2.93</td>\n",
       "      <td>735.0</td>\n",
       "      <td>0</td>\n",
       "    </tr>\n",
       "  </tbody>\n",
       "</table>\n",
       "</div>"
      ],
      "text/plain": [
       "   alcohol  malic_acid   ash  alcalinity_of_ash  magnesium  total_phenols  \\\n",
       "0    14.23        1.71  2.43               15.6      127.0           2.80   \n",
       "1    13.20        1.78  2.14               11.2      100.0           2.65   \n",
       "2    13.16        2.36  2.67               18.6      101.0           2.80   \n",
       "3    14.37        1.95  2.50               16.8      113.0           3.85   \n",
       "4    13.24        2.59  2.87               21.0      118.0           2.80   \n",
       "\n",
       "   flavanoids  nonflavanoid_phenols  proanthocyanins  color_intensity   hue  \\\n",
       "0        3.06                  0.28             2.29             5.64  1.04   \n",
       "1        2.76                  0.26             1.28             4.38  1.05   \n",
       "2        3.24                  0.30             2.81             5.68  1.03   \n",
       "3        3.49                  0.24             2.18             7.80  0.86   \n",
       "4        2.69                  0.39             1.82             4.32  1.04   \n",
       "\n",
       "   od280/od315_of_diluted_wines  proline  Category  \n",
       "0                          3.92   1065.0         0  \n",
       "1                          3.40   1050.0         0  \n",
       "2                          3.17   1185.0         0  \n",
       "3                          3.45   1480.0         0  \n",
       "4                          2.93    735.0         0  "
      ]
     },
     "execution_count": 44,
     "metadata": {},
     "output_type": "execute_result"
    }
   ],
   "source": [
    "wine_df = pd.DataFrame(data=wine.data, columns=wine.feature_names)\n",
    "print(type(wine_df))\n",
    "wine_df[\"Category\"] = wine.target\n",
    "wine_df.head()"
   ]
  },
  {
   "cell_type": "code",
   "execution_count": 49,
   "id": "745792ac",
   "metadata": {},
   "outputs": [
    {
     "data": {
      "application/vnd.jupyter.widget-view+json": {
       "model_id": "",
       "version_major": 2,
       "version_minor": 0
      },
      "text/plain": [
       "VBox(children=(Figure(axes=[Axis(label='Alcohol', scale=LinearScale()), Axis(label='color_intensity', orientat…"
      ]
     },
     "metadata": {},
     "output_type": "display_data"
    }
   ],
   "source": [
    "fig = plt.figure(title=\"Alcohol vs color_intensity Relation\")\n",
    "scat = plt.scatter(x=wine_df[\"alcohol\"], y=wine_df[\"color_intensity\"])\n",
    "plt.xlabel(\"Alcohol\")\n",
    "plt.ylabel(\"color_intensity\")\n",
    "plt.show()"
   ]
  },
  {
   "cell_type": "code",
   "execution_count": 65,
   "id": "dda7646e",
   "metadata": {},
   "outputs": [
    {
     "data": {
      "application/vnd.jupyter.widget-view+json": {
       "model_id": "",
       "version_major": 2,
       "version_minor": 0
      },
      "text/plain": [
       "VBox(children=(Figure(axes=[Axis(label='Alcohol', scale=LinearScale()), Axis(label='color_intensity', orientat…"
      ]
     },
     "metadata": {},
     "output_type": "display_data"
    }
   ],
   "source": [
    "fig = plt.figure(title=\"Alcohol vs color_intensity Relation\", )\n",
    "options = {'x':{'label':\"Alcohol\"}, 'y':{'label':'color_intensity'}}\n",
    "scat = plt.scatter(wine_df[\"alcohol\"], wine_df[\"color_intensity\"],\n",
    "                   colors=[\"lime\", \"tomato\", '#aa55aa'],\n",
    "                   axes_options = options,\n",
    "                   stroke=\"black\", stroke_width=1.5,\n",
    "                   default_size=150,\n",
    "                   default_opacities=[0.9],\n",
    "                   marker=\"square\",\n",
    "                   )\n",
    "plt.show()\n"
   ]
  },
  {
   "cell_type": "code",
   "execution_count": 82,
   "id": "00a52c15",
   "metadata": {},
   "outputs": [
    {
     "data": {
      "application/vnd.jupyter.widget-view+json": {
       "model_id": "2541f75b5a694b6290e12b1fb61b986e",
       "version_major": 2,
       "version_minor": 0
      },
      "text/plain": [
       "VBox(children=(Figure(axes=[ColorAxis(label='Category', orientation='vertical', scale=ColorScale(), side='righ…"
      ]
     },
     "metadata": {},
     "output_type": "display_data"
    }
   ],
   "source": [
    "fig = plt.figure(title=\"Alcohol vs color_intensity Relation\")\n",
    "\n",
    "fig.layout.height = \"500px\"\n",
    "fig.layout.width = \"600px\"\n",
    "\n",
    "options = {'color': dict(label='Category', orientation='vertical', side='right')}\n",
    "\n",
    "scat = plt.scatter(x = wine_df[\"alcohol\"], y = wine_df[\"color_intensity\"],\n",
    "                   color=wine_df[\"Category\"],\n",
    "                   axes_options = options,\n",
    "                   stroke=\"black\", stroke_width=2.3,\n",
    "                   default_size=200,\n",
    "                   default_opacities=[0.9],\n",
    "                   marker=\"circle\",\n",
    "                   )\n",
    "scat.enable_move = True\n",
    "scat.tooltip = Tooltip(fields=[\"color\", 'x', 'y'], labels=[\"Wine Category\", \"Alcohol\", \"color_intensity\"])\n",
    "\n",
    "plt.xlabel(\"Alcohol\")\n",
    "plt.ylabel(\"color_intensity\")\n",
    "\n",
    "plt.xlim(10.7, 15.3)\n",
    "\n",
    "plt.show()"
   ]
  },
  {
   "cell_type": "code",
   "execution_count": 86,
   "id": "6f57ee5f",
   "metadata": {},
   "outputs": [
    {
     "data": {
      "application/vnd.jupyter.widget-view+json": {
       "model_id": "be4d0191031146b2ac5199fbfb2b37c0",
       "version_major": 2,
       "version_minor": 0
      },
      "text/plain": [
       "VBox(children=(Figure(axes=[Axis(label='Wine Category', scale=LinearScale()), Axis(label='Average Magnesium', …"
      ]
     },
     "metadata": {},
     "output_type": "display_data"
    }
   ],
   "source": [
    "fig = plt.figure(title=\"Average Magnesium Per Wine Category\")\n",
    "\n",
    "fig.layout.height = \"350px\"\n",
    "fig.layout.width = \"800px\"\n",
    "\n",
    "avg_wine_df = wine_df.groupby(by=\"Category\").mean()\n",
    "\n",
    "bar_chart  = plt.bar(x = avg_wine_df.index, y= avg_wine_df[\"magnesium\"])\n",
    "\n",
    "bar_chart.colors = [\"tomato\"]\n",
    "\n",
    "bar_chart.tooltip = Tooltip(fields=[\"x\", \"y\"], labels=[\"Wine Category\", \"Avg Magnesium\"])\n",
    "\n",
    "plt.xlabel(\"Wine Category\")\n",
    "plt.ylabel(\"Average Magnesium\")\n",
    "\n",
    "\n",
    "plt.show()"
   ]
  },
  {
   "cell_type": "code",
   "execution_count": 78,
   "id": "269e5442",
   "metadata": {},
   "outputs": [],
   "source": [
    "\n"
   ]
  },
  {
   "cell_type": "code",
   "execution_count": 87,
   "id": "057eb13b",
   "metadata": {},
   "outputs": [
    {
     "data": {
      "application/vnd.jupyter.widget-view+json": {
       "model_id": "b9b88e46f64b406e950bb74402c61b01",
       "version_major": 2,
       "version_minor": 0
      },
      "text/plain": [
       "VBox(children=(Figure(axes=[Axis(label='Wine Category', scale=LinearScale()), Axis(label='Average Magnesium', …"
      ]
     },
     "metadata": {},
     "output_type": "display_data"
    }
   ],
   "source": [
    "fig = plt.figure(title=\"Average Magnesium Per Wine Category\",\n",
    "                 fig_margin={'top':50, 'bottom':20, 'left':150, 'right':150},\n",
    "                 legend_location=\"top-left\")\n",
    "\n",
    "avg_wine_df = wine_df.groupby(by=\"Category\").mean()\n",
    "\n",
    "bar_chart  = plt.bar(x = avg_wine_df.index, y= [avg_wine_df[\"ash\"], avg_wine_df[\"flavanoids\"]],\n",
    "                     labels = [\"Ash\", \"Flavanoids\"],\n",
    "                     display_legend=True)\n",
    "\n",
    "bar_chart.type = \"grouped\"\n",
    "\n",
    "bar_chart.colors = [\"tomato\", \"lime\"]\n",
    "\n",
    "bar_chart.tooltip = Tooltip(fields=[\"x\", \"y\"], labels=[\"Wine Category\", \"Avg Ash/Flavanoids\"])\n",
    "\n",
    "plt.xlabel(\"Wine Category\")\n",
    "plt.ylabel(\"Average Magnesium\")\n",
    "\n",
    "\n",
    "plt.show()"
   ]
  },
  {
   "cell_type": "code",
   "execution_count": 92,
   "id": "09adc6a3",
   "metadata": {},
   "outputs": [
    {
     "data": {
      "application/vnd.jupyter.widget-view+json": {
       "model_id": "4c9d7acd5c5d49baa8063e32c51c9b40",
       "version_major": 2,
       "version_minor": 0
      },
      "text/plain": [
       "VBox(children=(Figure(axes=[Axis(label='Wine Category', scale=LinearScale()), Axis(label='Average Magnesium', …"
      ]
     },
     "metadata": {},
     "output_type": "display_data"
    }
   ],
   "source": [
    "fig = plt.figure(title=\"Average Magnesium Per Wine Category\",\n",
    "                fig_margin={'top':50, 'bottom':20, 'left':150, 'right':150},)\n",
    "\n",
    "avg_wine_df = wine_df.groupby(by=\"Category\").mean()\n",
    "\n",
    "bar_chart  = plt.bar(x = avg_wine_df.index, y= [avg_wine_df[\"ash\"], avg_wine_df[\"flavanoids\"]],\n",
    "                     labels=[\"Ash\", \"Flavanoids\"],\n",
    "                     display_legend=True)\n",
    "\n",
    "bar_chart.type = \"stacked\"\n",
    "\n",
    "bar_chart.colors = bqplot.CATEGORY10\n",
    "\n",
    "bar_chart.tooltip = Tooltip(fields=[\"x\", \"y\"], labels=[\"Wine Category\", \"Avg Ash/Flavanoids\"])\n",
    "\n",
    "plt.xlabel(\"Wine Category\")\n",
    "plt.ylabel(\"Average Magnesium\")\n",
    "\n",
    "\n",
    "plt.show()\n",
    "\n"
   ]
  },
  {
   "cell_type": "code",
   "execution_count": 96,
   "id": "3cf1d68c",
   "metadata": {},
   "outputs": [
    {
     "data": {
      "application/vnd.jupyter.widget-view+json": {
       "model_id": "3e04ea33dc6342309cff75160f285601",
       "version_major": 2,
       "version_minor": 0
      },
      "text/plain": [
       "VBox(children=(Figure(axes=[Axis(grid_lines='none', orientation='vertical', scale=LinearScale()), Axis(grid_li…"
      ]
     },
     "metadata": {},
     "output_type": "display_data"
    }
   ],
   "source": [
    "fig = plt.figure(title=\"Alcohol Distribution\")\n",
    "\n",
    "fig.layout.width = \"600px\"\n",
    "fig.layout.height = \"500px\"\n",
    "\n",
    "histogram = plt.hist(sample = wine_df[\"alcohol\"], bins=10)\n",
    "\n",
    "histogram.colors = [\"orangered\"]\n",
    "histogram.stroke=\"blue\"\n",
    "histogram.stroke_width = 2.0\n",
    "\n",
    "plt.grids(value=\"none\")\n",
    "plt.xlim(10.5,15.5)\n",
    "\n",
    "plt.show()"
   ]
  },
  {
   "cell_type": "code",
   "execution_count": 115,
   "id": "44255159",
   "metadata": {
    "scrolled": true
   },
   "outputs": [
    {
     "data": {
      "application/vnd.jupyter.widget-view+json": {
       "model_id": "17fde7d9e14b4194a01c6d82c77dffae",
       "version_major": 2,
       "version_minor": 0
      },
      "text/plain": [
       "VBox(children=(Figure(animation_duration=1000, fig_margin={'top': 60, 'bottom': 60, 'left': 60, 'right': 60}, …"
      ]
     },
     "metadata": {},
     "output_type": "display_data"
    }
   ],
   "source": [
    "from collections import Counter\n",
    "\n",
    "wine_cat = Counter(wine_df[\"Category\"])\n",
    "\n",
    "fig = plt.figure(title=\"Wine Category Distribution\", animation_duration=1000)\n",
    "fig.layout.height = \"450px\"\n",
    "\n",
    "pie = plt.pie(sizes = list(wine_cat.values()),\n",
    "              labels =[\"Category %d\"%val for val in list(wine_cat.keys())],\n",
    "              display_values = True,\n",
    "              values_format=\".0f\",\n",
    "              display_labels='outside')\n",
    "\n",
    "pie.stroke=\"black\"\n",
    "pie.colors = [\"tomato\",\"lawngreen\", \"skyblue\"]\n",
    "pie.opacities = [0.7,0.8,0.9]\n",
    "\n",
    "pie.radius = 160\n",
    "pie.inner_radius = 125\n",
    "\n",
    "pie.label_color = 'orangered'\n",
    "pie.font_size = '20px'\n",
    "pie.font_weight = 'bold'\n",
    "\n",
    "plt.show()"
   ]
  },
  {
   "cell_type": "code",
   "execution_count": 116,
   "id": "ca134042",
   "metadata": {},
   "outputs": [
    {
     "data": {
      "application/vnd.jupyter.widget-view+json": {
       "model_id": "84d3954f132f4066a0f2ccf223d970c3",
       "version_major": 2,
       "version_minor": 0
      },
      "text/plain": [
       "VBox(children=(Figure(axes=[Axis(grid_lines='none', scale=LinearScale()), Axis(grid_lines='none', orientation=…"
      ]
     },
     "metadata": {},
     "output_type": "display_data"
    }
   ],
   "source": [
    "fig = plt.figure(title=\"Box Plots\")\n",
    "\n",
    "mini_df = wine_df[[\"alcohol\",\"malic_acid\",\"ash\",\"total_phenols\", \"flavanoids\", \"nonflavanoid_phenols\", \"proanthocyanins\", \"color_intensity\", \"hue\"]]\n",
    "\n",
    "boxes = plt.boxplot(x=range(mini_df.shape[1]), y=mini_df.values.T)\n",
    "\n",
    "boxes.box_fill_color = 'lawngreen'\n",
    "boxes.opacity = 0.6\n",
    "boxes.box_width = 50\n",
    "\n",
    "plt.grids(value=\"none\")\n",
    "\n",
    "plt.show()"
   ]
  },
  {
   "cell_type": "code",
   "execution_count": 130,
   "id": "f56c1568",
   "metadata": {},
   "outputs": [
    {
     "data": {
      "application/vnd.jupyter.widget-view+json": {
       "model_id": "abb19c9b66dc4892942b4156edd60e1e",
       "version_major": 2,
       "version_minor": 0
      },
      "text/plain": [
       "VBox(children=(Figure(axes=[ColorAxis(orientation='vertical', scale=ColorScale(), side='right'), Axis(scale=Li…"
      ]
     },
     "metadata": {},
     "output_type": "display_data"
    }
   ],
   "source": [
    "fig  = plt.figure(title=\"Correlation Heatmap\",padding_y=0)\n",
    "\n",
    "fig.layout.width = \"700px\"\n",
    "fig.layout.height = \"700px\"\n",
    "\n",
    "axes_options = {'color': {'orientation': \"vertical\",\"side\":\"right\"}}\n",
    "\n",
    "plt.heatmap(color=wine_df.corr().values, axes_options=axes_options)\n",
    "\n",
    "plt.show()"
   ]
  },
  {
   "cell_type": "code",
   "execution_count": null,
   "id": "d6ad8ed2",
   "metadata": {},
   "outputs": [],
   "source": []
  }
 ],
 "metadata": {
  "kernelspec": {
   "display_name": "Python 3",
   "language": "python",
   "name": "python3"
  },
  "language_info": {
   "codemirror_mode": {
    "name": "ipython",
    "version": 3
   },
   "file_extension": ".py",
   "mimetype": "text/x-python",
   "name": "python",
   "nbconvert_exporter": "python",
   "pygments_lexer": "ipython3",
   "version": "3.6.9"
  }
 },
 "nbformat": 4,
 "nbformat_minor": 5
}
