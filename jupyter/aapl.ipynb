{
 "cells": [
  {
   "cell_type": "code",
   "execution_count": 2,
   "id": "9a995659",
   "metadata": {},
   "outputs": [],
   "source": [
    "from datetime import datetime\n",
    "import bqplot\n",
    "from bqplot import pyplot as plt\n",
    "import numpy as np\n",
    "import pandas as pd\n",
    "import warnings\n",
    "from bqplot import Tooltip\n"
   ]
  },
  {
   "cell_type": "code",
   "execution_count": 7,
   "id": "bdb9dceb",
   "metadata": {},
   "outputs": [
    {
     "name": "stdout",
     "output_type": "stream",
     "text": [
      "<class 'pandas.core.frame.DataFrame'>\n",
      "<class 'pandas.core.frame.DataFrame'>\n"
     ]
    },
    {
     "data": {
      "text/html": [
       "<div>\n",
       "<style scoped>\n",
       "    .dataframe tbody tr th:only-of-type {\n",
       "        vertical-align: middle;\n",
       "    }\n",
       "\n",
       "    .dataframe tbody tr th {\n",
       "        vertical-align: top;\n",
       "    }\n",
       "\n",
       "    .dataframe thead th {\n",
       "        text-align: right;\n",
       "    }\n",
       "</style>\n",
       "<table border=\"1\" class=\"dataframe\">\n",
       "  <thead>\n",
       "    <tr style=\"text-align: right;\">\n",
       "      <th></th>\n",
       "      <th>Open</th>\n",
       "      <th>High</th>\n",
       "      <th>Low</th>\n",
       "      <th>Close</th>\n",
       "      <th>Adj Close</th>\n",
       "      <th>Volume</th>\n",
       "    </tr>\n",
       "    <tr>\n",
       "      <th>Date</th>\n",
       "      <th></th>\n",
       "      <th></th>\n",
       "      <th></th>\n",
       "      <th></th>\n",
       "      <th></th>\n",
       "      <th></th>\n",
       "    </tr>\n",
       "  </thead>\n",
       "  <tbody>\n",
       "    <tr>\n",
       "      <th>2020-07-24</th>\n",
       "      <td>90.987503</td>\n",
       "      <td>92.970001</td>\n",
       "      <td>89.144997</td>\n",
       "      <td>92.614998</td>\n",
       "      <td>91.995125</td>\n",
       "      <td>185438800</td>\n",
       "    </tr>\n",
       "    <tr>\n",
       "      <th>2020-07-27</th>\n",
       "      <td>93.709999</td>\n",
       "      <td>94.904999</td>\n",
       "      <td>93.480003</td>\n",
       "      <td>94.809998</td>\n",
       "      <td>94.175430</td>\n",
       "      <td>121214000</td>\n",
       "    </tr>\n",
       "    <tr>\n",
       "      <th>2020-07-28</th>\n",
       "      <td>94.367500</td>\n",
       "      <td>94.550003</td>\n",
       "      <td>93.247498</td>\n",
       "      <td>93.252502</td>\n",
       "      <td>92.628365</td>\n",
       "      <td>103625600</td>\n",
       "    </tr>\n",
       "    <tr>\n",
       "      <th>2020-07-29</th>\n",
       "      <td>93.750000</td>\n",
       "      <td>95.230003</td>\n",
       "      <td>93.712502</td>\n",
       "      <td>95.040001</td>\n",
       "      <td>94.403893</td>\n",
       "      <td>90329200</td>\n",
       "    </tr>\n",
       "    <tr>\n",
       "      <th>2020-07-30</th>\n",
       "      <td>94.187500</td>\n",
       "      <td>96.297501</td>\n",
       "      <td>93.767502</td>\n",
       "      <td>96.190002</td>\n",
       "      <td>95.546204</td>\n",
       "      <td>158130000</td>\n",
       "    </tr>\n",
       "  </tbody>\n",
       "</table>\n",
       "</div>"
      ],
      "text/plain": [
       "                 Open       High        Low      Close  Adj Close     Volume\n",
       "Date                                                                        \n",
       "2020-07-24  90.987503  92.970001  89.144997  92.614998  91.995125  185438800\n",
       "2020-07-27  93.709999  94.904999  93.480003  94.809998  94.175430  121214000\n",
       "2020-07-28  94.367500  94.550003  93.247498  93.252502  92.628365  103625600\n",
       "2020-07-29  93.750000  95.230003  93.712502  95.040001  94.403893   90329200\n",
       "2020-07-30  94.187500  96.297501  93.767502  96.190002  95.546204  158130000"
      ]
     },
     "execution_count": 7,
     "metadata": {},
     "output_type": "execute_result"
    }
   ],
   "source": [
    "apple_df = pd.read_csv(\"datasets/AAPL.csv\", index_col=0, parse_dates=True)\n",
    "print(type(apple_df))\n",
    "print(type(apple_df.head()))\n",
    "apple_df.head()"
   ]
  },
  {
   "cell_type": "code",
   "execution_count": 4,
   "id": "cf9946b7",
   "metadata": {},
   "outputs": [
    {
     "data": {
      "application/vnd.jupyter.widget-view+json": {
       "model_id": "102c731854294b55ab509f0653be949e",
       "version_major": 2,
       "version_minor": 0
      },
      "text/plain": [
       "VBox(children=(Figure(axes=[Axis(label='Date', scale=DateScale()), Axis(label='Close Price', orientation='vert…"
      ]
     },
     "metadata": {},
     "output_type": "display_data"
    }
   ],
   "source": [
    "fig = plt.figure(title=\"Apple Stock Close Price\")\n",
    "\n",
    "line_chart = plt.plot(x=apple_df.index, y=apple_df.Close)\n",
    "\n",
    "plt.xlabel(\"Date\")\n",
    "plt.ylabel(\"Close Price\")\n",
    "\n",
    "plt.show()"
   ]
  },
  {
   "cell_type": "code",
   "execution_count": 8,
   "id": "cc54a7da",
   "metadata": {},
   "outputs": [
    {
     "data": {
      "application/vnd.jupyter.widget-view+json": {
       "model_id": "2841790dd55a42f9abc6ee6e2013f3cb",
       "version_major": 2,
       "version_minor": 0
      },
      "text/plain": [
       "VBox(children=(Figure(axes=[Axis(label='Date', scale=DateScale()), Axis(orientation='vertical', scale=LinearSc…"
      ]
     },
     "metadata": {},
     "output_type": "display_data"
    }
   ],
   "source": [
    "fig = plt.figure(title=\"Apple CandleStick Chart\")\n",
    "fig.layout.width=\"800px\"\n",
    "\n",
    "apple_df_jan_2021 = apple_df.loc[\"2021-1\"]\n",
    "\n",
    "ohlc = plt.ohlc(x=apple_df_jan_2021.index, y=apple_df_jan_2021[[\"Open\",\"High\",\"Low\", \"Close\"]],\n",
    "                marker=\"candle\", stroke=\"blue\")\n",
    "\n",
    "ohlc.colors=[\"lime\", \"tomato\"]\n",
    "plt.xlabel(\"Date\")\n",
    "plt.show()"
   ]
  },
  {
   "cell_type": "code",
   "execution_count": 9,
   "id": "b30cec17",
   "metadata": {},
   "outputs": [
    {
     "data": {
      "application/vnd.jupyter.widget-view+json": {
       "model_id": "b85b08d2f5a34150bde89e44e54cd92a",
       "version_major": 2,
       "version_minor": 0
      },
      "text/plain": [
       "VBox(children=(Figure(axes=[Axis(label='Date', scale=DateScale()), Axis(orientation='vertical', scale=LinearSc…"
      ]
     },
     "metadata": {},
     "output_type": "display_data"
    }
   ],
   "source": [
    "fig = plt.figure(title=\"Apple CandleStick Chart\")\n",
    "fig.layout.width=\"800px\"\n",
    "\n",
    "apple_df_jan_2021 = apple_df.loc[\"2021-1\"]\n",
    "\n",
    "ohlc = plt.ohlc(x=apple_df_jan_2021.index, y=apple_df_jan_2021[[\"Open\",\"High\",\"Low\",\"Close\"]],\n",
    "                marker=\"bar\", stroke=\"blue\")\n",
    "\n",
    "ohlc.colors=[\"lime\", \"tomato\"]\n",
    "plt.xlabel(\"Date\")\n",
    "plt.show()"
   ]
  },
  {
   "cell_type": "code",
   "execution_count": null,
   "id": "8f0f062d",
   "metadata": {},
   "outputs": [],
   "source": []
  }
 ],
 "metadata": {
  "kernelspec": {
   "display_name": "Python 3 (ipykernel)",
   "language": "python",
   "name": "python3"
  },
  "language_info": {
   "codemirror_mode": {
    "name": "ipython",
    "version": 3
   },
   "file_extension": ".py",
   "mimetype": "text/x-python",
   "name": "python",
   "nbconvert_exporter": "python",
   "pygments_lexer": "ipython3",
   "version": "3.9.6"
  }
 },
 "nbformat": 4,
 "nbformat_minor": 5
}
