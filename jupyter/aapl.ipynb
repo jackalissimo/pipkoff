{
 "cells": [
  {
   "cell_type": "code",
   "execution_count": 4,
   "id": "9a995659",
   "metadata": {},
   "outputs": [],
   "source": [
    "from datetime import datetime\n",
    "import bqplot\n",
    "from bqplot import pyplot as plt\n",
    "import numpy as np\n",
    "import pandas as pd\n",
    "import warnings\n",
    "from bqplot import Tooltip\n",
    "from bqplot import DateScale, LinearScale, Lines, Axis, Figure\n"
   ]
  },
  {
   "cell_type": "code",
   "execution_count": 6,
   "id": "bdb9dceb",
   "metadata": {},
   "outputs": [
    {
     "name": "stdout",
     "output_type": "stream",
     "text": [
      "<class 'pandas.core.frame.DataFrame'>\n",
      "<class 'pandas.core.frame.DataFrame'>\n"
     ]
    },
    {
     "data": {
      "text/html": [
       "<div>\n",
       "<style scoped>\n",
       "    .dataframe tbody tr th:only-of-type {\n",
       "        vertical-align: middle;\n",
       "    }\n",
       "\n",
       "    .dataframe tbody tr th {\n",
       "        vertical-align: top;\n",
       "    }\n",
       "\n",
       "    .dataframe thead th {\n",
       "        text-align: right;\n",
       "    }\n",
       "</style>\n",
       "<table border=\"1\" class=\"dataframe\">\n",
       "  <thead>\n",
       "    <tr style=\"text-align: right;\">\n",
       "      <th></th>\n",
       "      <th>Open</th>\n",
       "      <th>High</th>\n",
       "      <th>Low</th>\n",
       "      <th>Close</th>\n",
       "      <th>Adj Close</th>\n",
       "      <th>Volume</th>\n",
       "    </tr>\n",
       "    <tr>\n",
       "      <th>Date</th>\n",
       "      <th></th>\n",
       "      <th></th>\n",
       "      <th></th>\n",
       "      <th></th>\n",
       "      <th></th>\n",
       "      <th></th>\n",
       "    </tr>\n",
       "  </thead>\n",
       "  <tbody>\n",
       "    <tr>\n",
       "      <th>2020-07-24</th>\n",
       "      <td>90.987503</td>\n",
       "      <td>92.970001</td>\n",
       "      <td>89.144997</td>\n",
       "      <td>92.614998</td>\n",
       "      <td>91.995125</td>\n",
       "      <td>185438800</td>\n",
       "    </tr>\n",
       "    <tr>\n",
       "      <th>2020-07-27</th>\n",
       "      <td>93.709999</td>\n",
       "      <td>94.904999</td>\n",
       "      <td>93.480003</td>\n",
       "      <td>94.809998</td>\n",
       "      <td>94.175430</td>\n",
       "      <td>121214000</td>\n",
       "    </tr>\n",
       "    <tr>\n",
       "      <th>2020-07-28</th>\n",
       "      <td>94.367500</td>\n",
       "      <td>94.550003</td>\n",
       "      <td>93.247498</td>\n",
       "      <td>93.252502</td>\n",
       "      <td>92.628365</td>\n",
       "      <td>103625600</td>\n",
       "    </tr>\n",
       "    <tr>\n",
       "      <th>2020-07-29</th>\n",
       "      <td>93.750000</td>\n",
       "      <td>95.230003</td>\n",
       "      <td>93.712502</td>\n",
       "      <td>95.040001</td>\n",
       "      <td>94.403893</td>\n",
       "      <td>90329200</td>\n",
       "    </tr>\n",
       "    <tr>\n",
       "      <th>2020-07-30</th>\n",
       "      <td>94.187500</td>\n",
       "      <td>96.297501</td>\n",
       "      <td>93.767502</td>\n",
       "      <td>96.190002</td>\n",
       "      <td>95.546204</td>\n",
       "      <td>158130000</td>\n",
       "    </tr>\n",
       "  </tbody>\n",
       "</table>\n",
       "</div>"
      ],
      "text/plain": [
       "                 Open       High        Low      Close  Adj Close     Volume\n",
       "Date                                                                        \n",
       "2020-07-24  90.987503  92.970001  89.144997  92.614998  91.995125  185438800\n",
       "2020-07-27  93.709999  94.904999  93.480003  94.809998  94.175430  121214000\n",
       "2020-07-28  94.367500  94.550003  93.247498  93.252502  92.628365  103625600\n",
       "2020-07-29  93.750000  95.230003  93.712502  95.040001  94.403893   90329200\n",
       "2020-07-30  94.187500  96.297501  93.767502  96.190002  95.546204  158130000"
      ]
     },
     "execution_count": 6,
     "metadata": {},
     "output_type": "execute_result"
    }
   ],
   "source": [
    "apple_df = pd.read_csv(\"datasets/AAPL.csv\", index_col=0, parse_dates=True)\n",
    "print(type(apple_df))\n",
    "print(type(apple_df.head()))\n",
    "apple_df.head()"
   ]
  },
  {
   "cell_type": "code",
   "execution_count": 4,
   "id": "cf9946b7",
   "metadata": {},
   "outputs": [
    {
     "data": {
      "application/vnd.jupyter.widget-view+json": {
       "model_id": "102c731854294b55ab509f0653be949e",
       "version_major": 2,
       "version_minor": 0
      },
      "text/plain": [
       "VBox(children=(Figure(axes=[Axis(label='Date', scale=DateScale()), Axis(label='Close Price', orientation='vert…"
      ]
     },
     "metadata": {},
     "output_type": "display_data"
    }
   ],
   "source": [
    "fig = plt.figure(title=\"Apple Stock Close Price\")\n",
    "\n",
    "line_chart = plt.plot(x=apple_df.index, y=apple_df.Close)\n",
    "\n",
    "plt.xlabel(\"Date\")\n",
    "plt.ylabel(\"Close Price\")\n",
    "\n",
    "plt.show()"
   ]
  },
  {
   "cell_type": "code",
   "execution_count": 8,
   "id": "cc54a7da",
   "metadata": {},
   "outputs": [
    {
     "data": {
      "application/vnd.jupyter.widget-view+json": {
       "model_id": "2841790dd55a42f9abc6ee6e2013f3cb",
       "version_major": 2,
       "version_minor": 0
      },
      "text/plain": [
       "VBox(children=(Figure(axes=[Axis(label='Date', scale=DateScale()), Axis(orientation='vertical', scale=LinearSc…"
      ]
     },
     "metadata": {},
     "output_type": "display_data"
    }
   ],
   "source": [
    "fig = plt.figure(title=\"Apple CandleStick Chart\")\n",
    "fig.layout.width=\"800px\"\n",
    "\n",
    "apple_df_jan_2021 = apple_df.loc[\"2021-1\"]\n",
    "\n",
    "ohlc = plt.ohlc(x=apple_df_jan_2021.index, y=apple_df_jan_2021[[\"Open\",\"High\",\"Low\", \"Close\"]],\n",
    "                marker=\"candle\", stroke=\"blue\")\n",
    "\n",
    "ohlc.colors=[\"lime\", \"tomato\"]\n",
    "plt.xlabel(\"Date\")\n",
    "plt.show()"
   ]
  },
  {
   "cell_type": "code",
   "execution_count": 3,
   "id": "b30cec17",
   "metadata": {},
   "outputs": [
    {
     "data": {
      "application/vnd.jupyter.widget-view+json": {
       "model_id": "aeac3f743e7a4f95be309001600b1aff",
       "version_major": 2,
       "version_minor": 0
      },
      "text/plain": [
       "VBox(children=(Figure(axes=[Axis(label='Date', scale=DateScale()), Axis(orientation='vertical', scale=LinearSc…"
      ]
     },
     "metadata": {},
     "output_type": "display_data"
    }
   ],
   "source": [
    "fig = plt.figure(title=\"Apple CandleStick Chart\")\n",
    "fig.layout.width=\"800px\"\n",
    "\n",
    "apple_df_jan_2021 = apple_df.loc[\"2021-1\"]\n",
    "\n",
    "ohlc = plt.ohlc(x=apple_df_jan_2021.index, y=apple_df_jan_2021[[\"Open\",\"High\",\"Low\",\"Close\"]],\n",
    "                marker=\"bar\", stroke=\"blue\")\n",
    "\n",
    "ohlc.colors=[\"lime\", \"tomato\"]\n",
    "plt.xlabel(\"Date\")\n",
    "plt.show()"
   ]
  },
  {
   "cell_type": "code",
   "execution_count": 44,
   "id": "59ed4be2",
   "metadata": {},
   "outputs": [
    {
     "data": {
      "text/html": [
       "<div>\n",
       "<style scoped>\n",
       "    .dataframe tbody tr th:only-of-type {\n",
       "        vertical-align: middle;\n",
       "    }\n",
       "\n",
       "    .dataframe tbody tr th {\n",
       "        vertical-align: top;\n",
       "    }\n",
       "\n",
       "    .dataframe thead th {\n",
       "        text-align: right;\n",
       "    }\n",
       "</style>\n",
       "<table border=\"1\" class=\"dataframe\">\n",
       "  <thead>\n",
       "    <tr style=\"text-align: right;\">\n",
       "      <th></th>\n",
       "      <th>Date</th>\n",
       "      <th>Open</th>\n",
       "      <th>High</th>\n",
       "      <th>Low</th>\n",
       "      <th>Close</th>\n",
       "      <th>Adj Close</th>\n",
       "      <th>Volume</th>\n",
       "    </tr>\n",
       "  </thead>\n",
       "  <tbody>\n",
       "    <tr>\n",
       "      <th>237</th>\n",
       "      <td>2021-07-02</td>\n",
       "      <td>137.899994</td>\n",
       "      <td>140.000000</td>\n",
       "      <td>137.750000</td>\n",
       "      <td>139.960007</td>\n",
       "      <td>139.960007</td>\n",
       "      <td>78852600</td>\n",
       "    </tr>\n",
       "    <tr>\n",
       "      <th>238</th>\n",
       "      <td>2021-07-06</td>\n",
       "      <td>140.070007</td>\n",
       "      <td>143.149994</td>\n",
       "      <td>140.070007</td>\n",
       "      <td>142.020004</td>\n",
       "      <td>142.020004</td>\n",
       "      <td>108181800</td>\n",
       "    </tr>\n",
       "    <tr>\n",
       "      <th>239</th>\n",
       "      <td>2021-07-07</td>\n",
       "      <td>143.539993</td>\n",
       "      <td>144.889999</td>\n",
       "      <td>142.660004</td>\n",
       "      <td>144.570007</td>\n",
       "      <td>144.570007</td>\n",
       "      <td>104911600</td>\n",
       "    </tr>\n",
       "    <tr>\n",
       "      <th>240</th>\n",
       "      <td>2021-07-08</td>\n",
       "      <td>141.580002</td>\n",
       "      <td>144.059998</td>\n",
       "      <td>140.669998</td>\n",
       "      <td>143.240005</td>\n",
       "      <td>143.240005</td>\n",
       "      <td>105575500</td>\n",
       "    </tr>\n",
       "    <tr>\n",
       "      <th>241</th>\n",
       "      <td>2021-07-09</td>\n",
       "      <td>142.750000</td>\n",
       "      <td>145.649994</td>\n",
       "      <td>142.649994</td>\n",
       "      <td>145.110001</td>\n",
       "      <td>145.110001</td>\n",
       "      <td>99788400</td>\n",
       "    </tr>\n",
       "    <tr>\n",
       "      <th>242</th>\n",
       "      <td>2021-07-12</td>\n",
       "      <td>146.210007</td>\n",
       "      <td>146.320007</td>\n",
       "      <td>144.000000</td>\n",
       "      <td>144.500000</td>\n",
       "      <td>144.500000</td>\n",
       "      <td>76299700</td>\n",
       "    </tr>\n",
       "    <tr>\n",
       "      <th>243</th>\n",
       "      <td>2021-07-13</td>\n",
       "      <td>144.029999</td>\n",
       "      <td>147.460007</td>\n",
       "      <td>143.630005</td>\n",
       "      <td>145.639999</td>\n",
       "      <td>145.639999</td>\n",
       "      <td>100827100</td>\n",
       "    </tr>\n",
       "  </tbody>\n",
       "</table>\n",
       "</div>"
      ],
      "text/plain": [
       "          Date        Open        High         Low       Close   Adj Close  \\\n",
       "237 2021-07-02  137.899994  140.000000  137.750000  139.960007  139.960007   \n",
       "238 2021-07-06  140.070007  143.149994  140.070007  142.020004  142.020004   \n",
       "239 2021-07-07  143.539993  144.889999  142.660004  144.570007  144.570007   \n",
       "240 2021-07-08  141.580002  144.059998  140.669998  143.240005  143.240005   \n",
       "241 2021-07-09  142.750000  145.649994  142.649994  145.110001  145.110001   \n",
       "242 2021-07-12  146.210007  146.320007  144.000000  144.500000  144.500000   \n",
       "243 2021-07-13  144.029999  147.460007  143.630005  145.639999  145.639999   \n",
       "\n",
       "        Volume  \n",
       "237   78852600  \n",
       "238  108181800  \n",
       "239  104911600  \n",
       "240  105575500  \n",
       "241   99788400  \n",
       "242   76299700  \n",
       "243  100827100  "
      ]
     },
     "execution_count": 44,
     "metadata": {},
     "output_type": "execute_result"
    }
   ],
   "source": [
    "apple_df2 = pd.read_csv(\"datasets/AAPL.csv\")\n",
    "apple_df2[\"Date\"] = pd.to_datetime(apple_df2[\"Date\"])\n",
    "\n",
    "df3 = apple_df2.tail(15).head(7)\n",
    "df3"
   ]
  },
  {
   "cell_type": "code",
   "execution_count": 46,
   "id": "8f0f062d",
   "metadata": {},
   "outputs": [
    {
     "data": {
      "text/plain": [
       "bqplot.figure.Figure"
      ]
     },
     "execution_count": 46,
     "metadata": {},
     "output_type": "execute_result"
    }
   ],
   "source": [
    "x_date = DateScale()\n",
    "y_linear = LinearScale()\n",
    "\n",
    "line = Lines(x=df3.Date, y=df3.Close,\n",
    "             scales={'x':x_date, 'y': y_linear},\n",
    "             labels=[\"Close Price ($)\"],\n",
    "             colors=[\"dodgerblue\"],\n",
    "             display_legend=True,)\n",
    "\n",
    "ax_x = Axis(scale=x_date, label=\"Date\", grid_lines=\"solid\", )\n",
    "ax_y = Axis(scale=y_linear, label=\"Price($)\", orientation=\"vertical\", grid_lines=\"solid\")\n",
    "\n",
    "fig = Figure(marks=[line],\n",
    "       axes=[ax_x, ax_y],\n",
    "       legend_location = \"top-left\",\n",
    "       title=\"keke\")\n",
    "\n",
    "type(fig)\n"
   ]
  },
  {
   "cell_type": "code",
   "execution_count": 45,
   "id": "97050339",
   "metadata": {},
   "outputs": [
    {
     "data": {
      "application/vnd.jupyter.widget-view+json": {
       "model_id": "342b3eceb90245f393b6a61be495d8dd",
       "version_major": 2,
       "version_minor": 0
      },
      "text/plain": [
       "Figure(axes=[Axis(label='Date', scale=DateScale(), side='bottom'), Axis(label='Price($)', orientation='vertica…"
      ]
     },
     "metadata": {},
     "output_type": "display_data"
    }
   ],
   "source": [
    "fig"
   ]
  }
 ],
 "metadata": {
  "kernelspec": {
   "display_name": "Python 3 (ipykernel)",
   "language": "python",
   "name": "python3"
  },
  "language_info": {
   "codemirror_mode": {
    "name": "ipython",
    "version": 3
   },
   "file_extension": ".py",
   "mimetype": "text/x-python",
   "name": "python",
   "nbconvert_exporter": "python",
   "pygments_lexer": "ipython3",
   "version": "3.9.6"
  }
 },
 "nbformat": 4,
 "nbformat_minor": 5
}
