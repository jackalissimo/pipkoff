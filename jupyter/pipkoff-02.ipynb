{
 "cells": [
  {
   "cell_type": "code",
   "execution_count": 1,
   "id": "8e4182ff",
   "metadata": {},
   "outputs": [],
   "source": [
    "import requests\n",
    "import json\n",
    "import pandas as pd\n",
    "from bqplot import pyplot as plt\n",
    "from bqplot import DateScale, LinearScale, Lines, Axis, Figure, OHLC"
   ]
  },
  {
   "cell_type": "code",
   "execution_count": 33,
   "id": "7260da0d",
   "metadata": {},
   "outputs": [
    {
     "name": "stdout",
     "output_type": "stream",
     "text": [
      "len candles:  62\n"
     ]
    },
    {
     "data": {
      "text/html": [
       "<div>\n",
       "<style scoped>\n",
       "    .dataframe tbody tr th:only-of-type {\n",
       "        vertical-align: middle;\n",
       "    }\n",
       "\n",
       "    .dataframe tbody tr th {\n",
       "        vertical-align: top;\n",
       "    }\n",
       "\n",
       "    .dataframe thead th {\n",
       "        text-align: right;\n",
       "    }\n",
       "</style>\n",
       "<table border=\"1\" class=\"dataframe\">\n",
       "  <thead>\n",
       "    <tr style=\"text-align: right;\">\n",
       "      <th></th>\n",
       "      <th>l</th>\n",
       "      <th>o</th>\n",
       "      <th>c</th>\n",
       "      <th>v</th>\n",
       "      <th>h</th>\n",
       "      <th>interval</th>\n",
       "    </tr>\n",
       "    <tr>\n",
       "      <th>time</th>\n",
       "      <th></th>\n",
       "      <th></th>\n",
       "      <th></th>\n",
       "      <th></th>\n",
       "      <th></th>\n",
       "      <th></th>\n",
       "    </tr>\n",
       "  </thead>\n",
       "  <tbody>\n",
       "    <tr>\n",
       "      <th>2021-08-09 04:00:00+00:00</th>\n",
       "      <td>32.82</td>\n",
       "      <td>33.21</td>\n",
       "      <td>35.21</td>\n",
       "      <td>5857499</td>\n",
       "      <td>35.54</td>\n",
       "      <td>day</td>\n",
       "    </tr>\n",
       "    <tr>\n",
       "      <th>2021-08-10 04:00:00+00:00</th>\n",
       "      <td>31.00</td>\n",
       "      <td>35.25</td>\n",
       "      <td>31.33</td>\n",
       "      <td>7698722</td>\n",
       "      <td>35.47</td>\n",
       "      <td>day</td>\n",
       "    </tr>\n",
       "    <tr>\n",
       "      <th>2021-08-11 04:00:00+00:00</th>\n",
       "      <td>26.49</td>\n",
       "      <td>31.01</td>\n",
       "      <td>27.36</td>\n",
       "      <td>10526196</td>\n",
       "      <td>31.50</td>\n",
       "      <td>day</td>\n",
       "    </tr>\n",
       "    <tr>\n",
       "      <th>2021-08-12 04:00:00+00:00</th>\n",
       "      <td>25.51</td>\n",
       "      <td>27.30</td>\n",
       "      <td>25.94</td>\n",
       "      <td>7935037</td>\n",
       "      <td>28.50</td>\n",
       "      <td>day</td>\n",
       "    </tr>\n",
       "    <tr>\n",
       "      <th>2021-08-13 04:00:00+00:00</th>\n",
       "      <td>25.37</td>\n",
       "      <td>25.68</td>\n",
       "      <td>25.37</td>\n",
       "      <td>8802600</td>\n",
       "      <td>26.29</td>\n",
       "      <td>day</td>\n",
       "    </tr>\n",
       "  </tbody>\n",
       "</table>\n",
       "</div>"
      ],
      "text/plain": [
       "                               l      o      c         v      h interval\n",
       "time                                                                    \n",
       "2021-08-09 04:00:00+00:00  32.82  33.21  35.21   5857499  35.54      day\n",
       "2021-08-10 04:00:00+00:00  31.00  35.25  31.33   7698722  35.47      day\n",
       "2021-08-11 04:00:00+00:00  26.49  31.01  27.36  10526196  31.50      day\n",
       "2021-08-12 04:00:00+00:00  25.51  27.30  25.94   7935037  28.50      day\n",
       "2021-08-13 04:00:00+00:00  25.37  25.68  25.37   8802600  26.29      day"
      ]
     },
     "execution_count": 33,
     "metadata": {},
     "output_type": "execute_result"
    }
   ],
   "source": [
    "ticker = 'SPCE'\n",
    "interval = 'day'\n",
    "res = requests.get('http://pipkoff-api:80/api/v0/market/candles', params={'ticker': ticker, 'interval': interval})\n",
    "cont = json.loads(res.content)\n",
    "candles = cont['data']['candles']\n",
    "print('len candles: ', len(candles))\n",
    "dfc = pd.DataFrame(candles)\n",
    "dfc[\"time\"] = pd.to_datetime(dfc[\"time\"])\n",
    "dfc = dfc.set_index(\"time\")\n",
    "dfc.tail()"
   ]
  },
  {
   "cell_type": "code",
   "execution_count": 30,
   "id": "929711b5",
   "metadata": {},
   "outputs": [
    {
     "data": {
      "application/vnd.jupyter.widget-view+json": {
       "model_id": "17982e91deae47568cbb5365d654e38f",
       "version_major": 2,
       "version_minor": 0
      },
      "text/plain": [
       "Figure(axes=[Axis(grid_color='gray', label='Date', label_offset='35px', scale=DateScale()), Axis(grid_color='g…"
      ]
     },
     "metadata": {},
     "output_type": "display_data"
    }
   ],
   "source": [
    "x_date = DateScale()\n",
    "y_linear = LinearScale()\n",
    "\n",
    "ohlc = OHLC(x=dfc.index, y=dfc[[\"o\",\"h\",\"l\",\"c\"]],\n",
    "            scales={'x':x_date, 'y':y_linear},\n",
    "            marker=\"candle\",\n",
    "            stroke=\"#777\", stroke_width=1.0,\n",
    "            colors=[\"lime\", \"tomato\"],\n",
    "            )\n",
    "\n",
    "ax_x = Axis(scale=x_date, label=\"Date\",\n",
    "            label_offset=\"35px\", grid_color=\"gray\",\n",
    "            )\n",
    "ax_y = Axis(scale=y_linear, label=\"Price\",\n",
    "            orientation=\"vertical\", label_offset=\"35px\",\n",
    "            grid_color=\"gray\",\n",
    "            tick_format=\"0.1f\")\n",
    "\n",
    "fig = Figure(marks=[ohlc],\n",
    "             axes=[ax_x, ax_y],\n",
    "             title=\"CandleStick Chart\",\n",
    "             fig_margin= dict(top=60, bottom=40, left=50, right=20),\n",
    "             background_style = {\"fill\":\"#ccc\"}\n",
    "      )\n",
    "\n",
    "fig.layout.height=\"600px\"\n",
    "\n",
    "fig\n"
   ]
  }
 ],
 "metadata": {
  "kernelspec": {
   "display_name": "Python 3 (ipykernel)",
   "language": "python",
   "name": "python3"
  },
  "language_info": {
   "codemirror_mode": {
    "name": "ipython",
    "version": 3
   },
   "file_extension": ".py",
   "mimetype": "text/x-python",
   "name": "python",
   "nbconvert_exporter": "python",
   "pygments_lexer": "ipython3",
   "version": "3.9.6"
  }
 },
 "nbformat": 4,
 "nbformat_minor": 5
}
