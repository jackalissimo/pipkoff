{
 "cells": [
  {
   "cell_type": "code",
   "execution_count": 49,
   "id": "89b7da96",
   "metadata": {},
   "outputs": [],
   "source": [
    "import requests\n",
    "import json\n",
    "import pandas as pd\n",
    "from bqplot import pyplot as plt\n",
    "from bqplot import DateScale, LinearScale, Lines, Axis, Figure, OHLC, Tooltip"
   ]
  },
  {
   "cell_type": "code",
   "execution_count": 86,
   "id": "d371dcef",
   "metadata": {},
   "outputs": [
    {
     "name": "stdout",
     "output_type": "stream",
     "text": [
      "len candles:  95\n"
     ]
    },
    {
     "data": {
      "text/html": [
       "<div>\n",
       "<style scoped>\n",
       "    .dataframe tbody tr th:only-of-type {\n",
       "        vertical-align: middle;\n",
       "    }\n",
       "\n",
       "    .dataframe tbody tr th {\n",
       "        vertical-align: top;\n",
       "    }\n",
       "\n",
       "    .dataframe thead th {\n",
       "        text-align: right;\n",
       "    }\n",
       "</style>\n",
       "<table border=\"1\" class=\"dataframe\">\n",
       "  <thead>\n",
       "    <tr style=\"text-align: right;\">\n",
       "      <th></th>\n",
       "      <th>l</th>\n",
       "      <th>o</th>\n",
       "      <th>c</th>\n",
       "      <th>v</th>\n",
       "      <th>h</th>\n",
       "      <th>interval</th>\n",
       "    </tr>\n",
       "    <tr>\n",
       "      <th>time</th>\n",
       "      <th></th>\n",
       "      <th></th>\n",
       "      <th></th>\n",
       "      <th></th>\n",
       "      <th></th>\n",
       "      <th></th>\n",
       "    </tr>\n",
       "  </thead>\n",
       "  <tbody>\n",
       "    <tr>\n",
       "      <th>2021-08-13 18:00:00+00:00</th>\n",
       "      <td>25.40</td>\n",
       "      <td>25.74</td>\n",
       "      <td>25.47</td>\n",
       "      <td>292117</td>\n",
       "      <td>25.77</td>\n",
       "      <td>hour</td>\n",
       "    </tr>\n",
       "    <tr>\n",
       "      <th>2021-08-13 19:00:00+00:00</th>\n",
       "      <td>25.27</td>\n",
       "      <td>25.48</td>\n",
       "      <td>25.35</td>\n",
       "      <td>645637</td>\n",
       "      <td>25.78</td>\n",
       "      <td>hour</td>\n",
       "    </tr>\n",
       "    <tr>\n",
       "      <th>2021-08-13 20:00:00+00:00</th>\n",
       "      <td>25.21</td>\n",
       "      <td>25.39</td>\n",
       "      <td>25.30</td>\n",
       "      <td>202565</td>\n",
       "      <td>25.49</td>\n",
       "      <td>hour</td>\n",
       "    </tr>\n",
       "    <tr>\n",
       "      <th>2021-08-13 21:00:00+00:00</th>\n",
       "      <td>25.29</td>\n",
       "      <td>25.29</td>\n",
       "      <td>25.41</td>\n",
       "      <td>26952</td>\n",
       "      <td>25.51</td>\n",
       "      <td>hour</td>\n",
       "    </tr>\n",
       "    <tr>\n",
       "      <th>2021-08-13 22:00:00+00:00</th>\n",
       "      <td>25.38</td>\n",
       "      <td>25.41</td>\n",
       "      <td>25.41</td>\n",
       "      <td>16729</td>\n",
       "      <td>25.51</td>\n",
       "      <td>hour</td>\n",
       "    </tr>\n",
       "  </tbody>\n",
       "</table>\n",
       "</div>"
      ],
      "text/plain": [
       "                               l      o      c       v      h interval\n",
       "time                                                                  \n",
       "2021-08-13 18:00:00+00:00  25.40  25.74  25.47  292117  25.77     hour\n",
       "2021-08-13 19:00:00+00:00  25.27  25.48  25.35  645637  25.78     hour\n",
       "2021-08-13 20:00:00+00:00  25.21  25.39  25.30  202565  25.49     hour\n",
       "2021-08-13 21:00:00+00:00  25.29  25.29  25.41   26952  25.51     hour\n",
       "2021-08-13 22:00:00+00:00  25.38  25.41  25.41   16729  25.51     hour"
      ]
     },
     "execution_count": 86,
     "metadata": {},
     "output_type": "execute_result"
    }
   ],
   "source": [
    "ticker = 'SPCE'\n",
    "interval = 'hour'\n",
    "res = requests.get('http://pipkoff-api:80/api/v0/market/candles', params={'ticker': ticker, 'interval': interval})\n",
    "cont = json.loads(res.content)\n",
    "candles = cont['data']['candles']\n",
    "print('len candles: ', len(candles))\n",
    "dfc = pd.DataFrame(candles)\n",
    "dfc[\"time\"] = pd.to_datetime(dfc[\"time\"])\n",
    "dfc = dfc.set_index(\"time\")\n",
    "dfc.tail()"
   ]
  },
  {
   "cell_type": "code",
   "execution_count": 92,
   "id": "2c6d7eec",
   "metadata": {},
   "outputs": [
    {
     "data": {
      "application/vnd.jupyter.widget-view+json": {
       "model_id": "af2d4616941f445f814b383f8ca47942",
       "version_major": 2,
       "version_minor": 0
      },
      "text/plain": [
       "Figure(axes=[Axis(grid_color='gray', label='Date', label_offset='35px', scale=DateScale()), Axis(grid_color='g…"
      ]
     },
     "metadata": {},
     "output_type": "display_data"
    }
   ],
   "source": [
    "x_date = DateScale()\n",
    "y_linear = LinearScale()\n",
    "def_tt = Tooltip(\n",
    "    fields=['x', 'close','open', 'high', 'low'], \n",
    "    formats = ['%Y-%m-%d %H-%M', '.2f', '.2f', '.2f', '.2f'], \n",
    "    show_labels=True)\n",
    "\n",
    "ohlc = OHLC(x=dfc.index, y=dfc[[\"o\",\"h\",\"l\",\"c\"]],            \n",
    "            scales={'x':x_date, 'y':y_linear},\n",
    "            marker=\"candle\",            \n",
    "            stroke=\"#222\", stroke_width=1.0,\n",
    "            colors=[\"lime\", \"tomato\"],\n",
    "            tooltip=def_tt          \n",
    "            )\n",
    "\n",
    "ax_x = Axis(scale=x_date, label=\"Date\",\n",
    "            label_offset=\"35px\", grid_color=\"gray\",\n",
    "            )\n",
    "ax_y = Axis(scale=y_linear, label=\"Price\",\n",
    "            orientation=\"vertical\", label_offset=\"35px\",\n",
    "            grid_color=\"gray\",            \n",
    "            tick_format=\"0.2f\")\n",
    "\n",
    "fig = Figure(marks=[ohlc],\n",
    "             axes=[ax_x, ax_y],             \n",
    "             title=\"CandleStick Chart\",\n",
    "             fig_margin= dict(top=60, bottom=40, left=50, right=20),\n",
    "             background_style = {\"fill\":\"#ccc\"}\n",
    "      )\n",
    "\n",
    "fig.layout.height=\"600px\"\n",
    "\n",
    "fig\n"
   ]
  }
 ],
 "metadata": {
  "kernelspec": {
   "display_name": "Python 3 (ipykernel)",
   "language": "python",
   "name": "python3"
  },
  "language_info": {
   "codemirror_mode": {
    "name": "ipython",
    "version": 3
   },
   "file_extension": ".py",
   "mimetype": "text/x-python",
   "name": "python",
   "nbconvert_exporter": "python",
   "pygments_lexer": "ipython3",
   "version": "3.9.6"
  }
 },
 "nbformat": 4,
 "nbformat_minor": 5
}
