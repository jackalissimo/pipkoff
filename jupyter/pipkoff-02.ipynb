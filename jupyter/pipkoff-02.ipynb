{
 "cells": [
  {
   "cell_type": "code",
   "execution_count": 49,
   "id": "1d244598",
   "metadata": {},
   "outputs": [],
   "source": [
    "import requests\n",
    "import json\n",
    "import pandas as pd\n",
    "from bqplot import pyplot as plt\n",
    "from bqplot import DateScale, LinearScale, Lines, Axis, Figure, OHLC, Tooltip"
   ]
  },
  {
   "cell_type": "code",
   "execution_count": 102,
   "id": "9175a3b6",
   "metadata": {},
   "outputs": [
    {
     "name": "stdout",
     "output_type": "stream",
     "text": [
      "candles:  62\n"
     ]
    },
    {
     "data": {
      "text/html": [
       "<div>\n",
       "<style scoped>\n",
       "    .dataframe tbody tr th:only-of-type {\n",
       "        vertical-align: middle;\n",
       "    }\n",
       "\n",
       "    .dataframe tbody tr th {\n",
       "        vertical-align: top;\n",
       "    }\n",
       "\n",
       "    .dataframe thead th {\n",
       "        text-align: right;\n",
       "    }\n",
       "</style>\n",
       "<table border=\"1\" class=\"dataframe\">\n",
       "  <thead>\n",
       "    <tr style=\"text-align: right;\">\n",
       "      <th></th>\n",
       "      <th>l</th>\n",
       "      <th>o</th>\n",
       "      <th>c</th>\n",
       "      <th>v</th>\n",
       "      <th>h</th>\n",
       "      <th>interval</th>\n",
       "    </tr>\n",
       "    <tr>\n",
       "      <th>time</th>\n",
       "      <th></th>\n",
       "      <th></th>\n",
       "      <th></th>\n",
       "      <th></th>\n",
       "      <th></th>\n",
       "      <th></th>\n",
       "    </tr>\n",
       "  </thead>\n",
       "  <tbody>\n",
       "    <tr>\n",
       "      <th>2021-08-09 04:00:00+00:00</th>\n",
       "      <td>99.00</td>\n",
       "      <td>104.95</td>\n",
       "      <td>99.76</td>\n",
       "      <td>126634</td>\n",
       "      <td>104.95</td>\n",
       "      <td>day</td>\n",
       "    </tr>\n",
       "    <tr>\n",
       "      <th>2021-08-10 04:00:00+00:00</th>\n",
       "      <td>98.16</td>\n",
       "      <td>99.00</td>\n",
       "      <td>99.27</td>\n",
       "      <td>100830</td>\n",
       "      <td>101.89</td>\n",
       "      <td>day</td>\n",
       "    </tr>\n",
       "    <tr>\n",
       "      <th>2021-08-11 04:00:00+00:00</th>\n",
       "      <td>100.11</td>\n",
       "      <td>100.11</td>\n",
       "      <td>101.39</td>\n",
       "      <td>113498</td>\n",
       "      <td>101.65</td>\n",
       "      <td>day</td>\n",
       "    </tr>\n",
       "    <tr>\n",
       "      <th>2021-08-12 04:00:00+00:00</th>\n",
       "      <td>101.00</td>\n",
       "      <td>104.50</td>\n",
       "      <td>101.76</td>\n",
       "      <td>62945</td>\n",
       "      <td>104.50</td>\n",
       "      <td>day</td>\n",
       "    </tr>\n",
       "    <tr>\n",
       "      <th>2021-08-13 04:00:00+00:00</th>\n",
       "      <td>101.08</td>\n",
       "      <td>101.76</td>\n",
       "      <td>102.85</td>\n",
       "      <td>98124</td>\n",
       "      <td>102.85</td>\n",
       "      <td>day</td>\n",
       "    </tr>\n",
       "  </tbody>\n",
       "</table>\n",
       "</div>"
      ],
      "text/plain": [
       "                                l       o       c       v       h interval\n",
       "time                                                                      \n",
       "2021-08-09 04:00:00+00:00   99.00  104.95   99.76  126634  104.95      day\n",
       "2021-08-10 04:00:00+00:00   98.16   99.00   99.27  100830  101.89      day\n",
       "2021-08-11 04:00:00+00:00  100.11  100.11  101.39  113498  101.65      day\n",
       "2021-08-12 04:00:00+00:00  101.00  104.50  101.76   62945  104.50      day\n",
       "2021-08-13 04:00:00+00:00  101.08  101.76  102.85   98124  102.85      day"
      ]
     },
     "execution_count": 102,
     "metadata": {},
     "output_type": "execute_result"
    }
   ],
   "source": [
    "ticker = 'JACK'\n",
    "interval = 'day'\n",
    "res = requests.get('http://pipkoff-api:80/api/v0/market/candles', params={'ticker': ticker, 'interval': interval})\n",
    "cont = json.loads(res.content)\n",
    "candles = cont['data']['candles']\n",
    "print('candles: ', len(candles))\n",
    "dfc = pd.DataFrame(candles)\n",
    "dfc[\"time\"] = pd.to_datetime(dfc[\"time\"])\n",
    "dfc = dfc.set_index(\"time\")\n",
    "dfc.tail()"
   ]
  },
  {
   "cell_type": "code",
   "execution_count": 103,
   "id": "9d833adc",
   "metadata": {},
   "outputs": [
    {
     "data": {
      "application/vnd.jupyter.widget-view+json": {
       "model_id": "cc4cac5803174d7ba4bf0dd31e1610cd",
       "version_major": 2,
       "version_minor": 0
      },
      "text/plain": [
       "Figure(axes=[Axis(grid_color='gray', label='Date', label_offset='35px', scale=DateScale()), Axis(grid_color='g…"
      ]
     },
     "metadata": {},
     "output_type": "display_data"
    }
   ],
   "source": [
    "x_date = DateScale()\n",
    "y_linear = LinearScale()\n",
    "def_tt = Tooltip(\n",
    "    fields=['x', 'close','open', 'high', 'low'], \n",
    "    formats = ['%Y-%m-%d %H-%M', '.2f', '.2f', '.2f', '.2f'], \n",
    "    show_labels=True)\n",
    "\n",
    "ohlc = OHLC(x=dfc.index, y=dfc[[\"o\",\"h\",\"l\",\"c\"]],            \n",
    "            scales={'x':x_date, 'y':y_linear},\n",
    "            marker=\"candle\",            \n",
    "            stroke=\"#222\", stroke_width=1.0,\n",
    "            colors=[\"lime\", \"tomato\"],\n",
    "            tooltip=def_tt          \n",
    "            )\n",
    "\n",
    "ax_x = Axis(scale=x_date, label=\"Date\",\n",
    "            label_offset=\"35px\", grid_color=\"gray\",\n",
    "            )\n",
    "ax_y = Axis(scale=y_linear, label=\"Price\",\n",
    "            orientation=\"vertical\", label_offset=\"35px\",\n",
    "            grid_color=\"gray\",            \n",
    "            tick_format=\"0.2f\")\n",
    "\n",
    "fig = Figure(marks=[ohlc],\n",
    "             axes=[ax_x, ax_y],             \n",
    "             title=\"CandleStick Chart\",\n",
    "             fig_margin= dict(top=60, bottom=40, left=50, right=20),\n",
    "             background_style = {\"fill\":\"#ccc\"}\n",
    "      )\n",
    "\n",
    "fig.layout.height=\"600px\"\n",
    "\n",
    "fig\n"
   ]
  },
  {
   "cell_type": "code",
   "execution_count": 161,
   "id": "b56dbf2a",
   "metadata": {},
   "outputs": [
    {
     "name": "stdout",
     "output_type": "stream",
     "text": [
      "Overwriting scripts/ohlc.py\n"
     ]
    }
   ],
   "source": [
    "%%writefile scripts/ohlc.py\n",
    "\n",
    "import requests\n",
    "import json\n",
    "import pandas as pd\n",
    "from bqplot import pyplot as plt\n",
    "from bqplot import DateScale, LinearScale, Lines, Axis, Figure, OHLC, Tooltip\n",
    "\n",
    "\n",
    "def show_ohlc(ticker: str, interval=\"day\"):\n",
    "    print('---hi')\n",
    "    res = requests.get('http://pipkoff-api:80/api/v0/market/candles', params={'ticker': ticker, 'interval': interval})\n",
    "    cont = json.loads(res.content)\n",
    "    candles = cont['data']['candles']    \n",
    "    dfc = pd.DataFrame(candles)\n",
    "    dfc[\"time\"] = pd.to_datetime(dfc[\"time\"])\n",
    "    dfc = dfc.set_index(\"time\")\n",
    "    \n",
    "    x_date = DateScale()\n",
    "    y_linear = LinearScale()\n",
    "    def_tt = Tooltip(\n",
    "        fields=['x', 'close','open', 'high', 'low'], \n",
    "        formats = ['%Y-%m-%d %H-%M', '.2f', '.2f', '.2f', '.2f'], \n",
    "        show_labels=True)\n",
    "\n",
    "    ohlc = OHLC(x=dfc.index, y=dfc[[\"o\",\"h\",\"l\",\"c\"]],            \n",
    "                scales={'x':x_date, 'y':y_linear},\n",
    "                marker=\"candle\",            \n",
    "                stroke=\"#222\", stroke_width=1.0,\n",
    "                colors=[\"lime\", \"tomato\"],\n",
    "                tooltip=def_tt          \n",
    "                )\n",
    "\n",
    "    ax_x = Axis(scale=x_date, label=\"Date\",\n",
    "                label_offset=\"35px\", grid_color=\"gray\",\n",
    "                )\n",
    "    ax_y = Axis(scale=y_linear, label=\"Price\",\n",
    "                orientation=\"vertical\", label_offset=\"35px\",\n",
    "                grid_color=\"gray\",            \n",
    "                tick_format=\"0.2f\")\n",
    "\n",
    "    fig = Figure(marks=[ohlc],\n",
    "                 axes=[ax_x, ax_y],             \n",
    "                 title=\"CandleStick Chart\",\n",
    "                 fig_margin= dict(top=60, bottom=40, left=50, right=20),\n",
    "                 background_style = {\"fill\":\"#ccc\"}\n",
    "          )\n",
    "\n",
    "    fig.layout.height=\"600px\"\n",
    "    return fig\n",
    "\n",
    "\n",
    "def get_intervals():\n",
    "    res = requests.get('http://pipkoff-api:80/api/v0/market/intervals')\n",
    "    assert res.status_code == 200\n",
    "    cont = json.loads(res.content)\n",
    "    return cont['data']['intervals']\n",
    "\n",
    "\n",
    "def get_stock(**kwargs):\n",
    "    res = requests.get('http://pipkoff-api:80/api/v0/stock', params=kwargs)\n",
    "    cont = json.loads(res.content)\n",
    "    return cont['data']['stocks']\n",
    "    \n",
    "    "
   ]
  },
  {
   "cell_type": "code",
   "execution_count": 145,
   "id": "f80c790b",
   "metadata": {},
   "outputs": [
    {
     "name": "stdout",
     "output_type": "stream",
     "text": [
      "\n",
      "import requests\n",
      "import json\n",
      "import pandas as pd\n",
      "from bqplot import pyplot as plt\n",
      "from bqplot import DateScale, LinearScale, Lines, Axis, Figure, OHLC, Tooltip\n",
      "\n",
      "\n",
      "def show_ohlc(ticker: str, interval=\"day\"):\n",
      "    print('---hi')\n",
      "    res = requests.get('http://pipkoff-api:80/api/v0/market/candles', params={'ticker': ticker, 'interval': interval})\n",
      "    cont = json.loads(res.content)\n",
      "    candles = cont['data']['candles']    \n",
      "    dfc = pd.DataFrame(candles)\n",
      "    dfc[\"time\"] = pd.to_datetime(dfc[\"time\"])\n",
      "    dfc = dfc.set_index(\"time\")\n",
      "    \n",
      "    x_date = DateScale()\n",
      "    y_linear = LinearScale()\n",
      "    def_tt = Tooltip(\n",
      "        fields=['x', 'close','open', 'high', 'low'], \n",
      "        formats = ['%Y-%m-%d %H-%M', '.2f', '.2f', '.2f', '.2f'], \n",
      "        show_labels=True)\n",
      "\n",
      "    ohlc = OHLC(x=dfc.index, y=dfc[[\"o\",\"h\",\"l\",\"c\"]],            \n",
      "                scales={'x':x_date, 'y':y_linear},\n",
      "                marker=\"candle\",            \n",
      "                stroke=\"#222\", stroke_width=1.0,\n",
      "                colors=[\"lime\", \"tomato\"],\n",
      "                tooltip=def_tt          \n",
      "                )\n",
      "\n",
      "    ax_x = Axis(scale=x_date, label=\"Date\",\n",
      "                label_offset=\"35px\", grid_color=\"gray\",\n",
      "                )\n",
      "    ax_y = Axis(scale=y_linear, label=\"Price\",\n",
      "                orientation=\"vertical\", label_offset=\"35px\",\n",
      "                grid_color=\"gray\",            \n",
      "                tick_format=\"0.2f\")\n",
      "\n",
      "    fig = Figure(marks=[ohlc],\n",
      "                 axes=[ax_x, ax_y],             \n",
      "                 title=\"CandleStick Chart\",\n",
      "                 fig_margin= dict(top=60, bottom=40, left=50, right=20),\n",
      "                 background_style = {\"fill\":\"#ccc\"}\n",
      "          )\n",
      "\n",
      "    fig.layout.height=\"600px\"\n",
      "    return fig\n",
      "    \n"
     ]
    }
   ],
   "source": [
    "%%bash\n",
    "cat scripts/ohlc.py"
   ]
  },
  {
   "cell_type": "code",
   "execution_count": 155,
   "id": "4c964efa",
   "metadata": {},
   "outputs": [
    {
     "name": "stdout",
     "output_type": "stream",
     "text": [
      "---hi\n"
     ]
    },
    {
     "data": {
      "application/vnd.jupyter.widget-view+json": {
       "model_id": "fb6726c2ba61453aaeca644765fa1c9f",
       "version_major": 2,
       "version_minor": 0
      },
      "text/plain": [
       "Figure(axes=[Axis(grid_color='gray', label='Date', label_offset='35px', scale=DateScale()), Axis(grid_color='g…"
      ]
     },
     "metadata": {},
     "output_type": "display_data"
    }
   ],
   "source": [
    "%run scripts/ohlc.py\n",
    "\n",
    "show_ohlc('TSLA', 'hour')\n"
   ]
  },
  {
   "cell_type": "code",
   "execution_count": null,
   "id": "1f2a8fd4",
   "metadata": {},
   "outputs": [],
   "source": []
  }
 ],
 "metadata": {
  "kernelspec": {
   "display_name": "Python 3 (ipykernel)",
   "language": "python",
   "name": "python3"
  },
  "language_info": {
   "codemirror_mode": {
    "name": "ipython",
    "version": 3
   },
   "file_extension": ".py",
   "mimetype": "text/x-python",
   "name": "python",
   "nbconvert_exporter": "python",
   "pygments_lexer": "ipython3",
   "version": "3.9.6"
  }
 },
 "nbformat": 4,
 "nbformat_minor": 5
}
