{
 "cells": [
  {
   "cell_type": "code",
   "execution_count": 2,
   "id": "4d2ee4de",
   "metadata": {},
   "outputs": [],
   "source": [
    "import requests\n",
    "import json\n",
    "import pandas as pd\n",
    "from bqplot import pyplot as plt\n",
    "from bqplot import DateScale, LinearScale, Lines, Axis, Figure, OHLC"
   ]
  },
  {
   "cell_type": "code",
   "execution_count": 56,
   "id": "a14f42f1",
   "metadata": {},
   "outputs": [
    {
     "name": "stdout",
     "output_type": "stream",
     "text": [
      "{'id': 1658, 'currency': 'USD', 'lot': 1, 'name': 'Sony Corp', 'type': 'Stock', 'min_price_increment': 0.01, 'active': 1, 'figi': 'BBG000BT7ZK6', 'isin': 'US8356993076', 'ticker': 'SONY'}\n"
     ]
    }
   ],
   "source": [
    "id  = 1658\n",
    "figi = 'BBG000BT7ZK6'\n",
    "ticker = 'SONY'\n",
    "res = requests.get('http://pipkoff-api:80/api/v0/stock', params={'id': id})\n",
    "assert res.status_code == 200\n",
    "cont = json.loads(res.content)\n",
    "stock = cont['data']['stocks'][0]\n",
    "assert stock['ticker'] == ticker\n",
    "assert stock['figi'] == figi\n",
    "assert stock['id'] == id\n",
    "print(stock)"
   ]
  },
  {
   "cell_type": "code",
   "execution_count": 3,
   "id": "d5aa068a",
   "metadata": {},
   "outputs": [
    {
     "name": "stdout",
     "output_type": "stream",
     "text": [
      "{'min_price_increment': 0.01, 'id': 1435, 'ticker': 'AAL', 'type': 'Stock', 'currency': 'USD', 'lot': 1, 'isin': 'US02376R1023', 'name': 'American Airlines Group', 'active': 1, 'figi': 'BBG005P7Q881'}\n"
     ]
    }
   ],
   "source": [
    "ticker = 'AAL'\n",
    "res = requests.get('http://pipkoff-api:80/api/v0/stock', params={'ticker': ticker})\n",
    "assert res.status_code == 200\n",
    "cont = json.loads(res.content)\n",
    "stock = cont['data']['stocks'][0]\n",
    "print(stock)\n"
   ]
  },
  {
   "cell_type": "code",
   "execution_count": 18,
   "id": "1c95f2a0",
   "metadata": {},
   "outputs": [
    {
     "name": "stdout",
     "output_type": "stream",
     "text": [
      "{'data': {'intervals': ['1min', '2min', '3min', '5min', '10min', '15min', '30min', 'hour', 'day', 'week', 'month']}, 'success': True}\n"
     ]
    }
   ],
   "source": [
    "res = requests.get('http://pipkoff-api:80/api/v0/market/intervals')\n",
    "assert res.status_code == 200\n",
    "cont = json.loads(res.content)\n",
    "print(cont)\n"
   ]
  },
  {
   "cell_type": "code",
   "execution_count": 57,
   "id": "02547647",
   "metadata": {},
   "outputs": [
    {
     "name": "stdout",
     "output_type": "stream",
     "text": [
      "{'data': {'stocks': [{'id': 184, 'currency': 'USD', 'lot': 1, 'name': 'Virgin Galactic Holdings Inc Class A', 'type': 'Stock', 'min_price_increment': 0.01, 'active': 1, 'figi': 'BBG00HTN2CQ3', 'isin': 'US92766K1060', 'ticker': 'SPCE'}]}, 'success': True}\n"
     ]
    }
   ],
   "source": [
    "res = requests.get('http://pipkoff-api:80/api/v0/stock', params={'name': 'virgin'})\n",
    "print(json.loads(res.content))"
   ]
  },
  {
   "cell_type": "code",
   "execution_count": 3,
   "id": "d4656625",
   "metadata": {},
   "outputs": [
    {
     "name": "stdout",
     "output_type": "stream",
     "text": [
      "95\n"
     ]
    }
   ],
   "source": [
    "ticker = 'SPCE'\n",
    "interval = 'hour'\n",
    "res = requests.get('http://pipkoff-api:80/api/v0/market/candles', params={'ticker': ticker, 'interval': interval})\n",
    "cont = json.loads(res.content)\n",
    "candles = cont['data']['candles']\n",
    "print(len(candles))"
   ]
  },
  {
   "cell_type": "code",
   "execution_count": 45,
   "id": "f2593647",
   "metadata": {},
   "outputs": [
    {
     "name": "stdout",
     "output_type": "stream",
     "text": [
      "[{'l': 33.28, 'v': 222582, 'time': '2021-08-06T20:00:00+00:00', 'h': 33.93, 'o': 33.43, 'interval': 'hour', 'c': 33.46}, {'l': 33.45, 'v': 36166, 'time': '2021-08-06T21:00:00+00:00', 'h': 33.7, 'o': 33.5, 'interval': 'hour', 'c': 33.49}, {'l': 33.47, 'v': 17070, 'time': '2021-08-06T22:00:00+00:00', 'h': 33.56, 'o': 33.49, 'interval': 'hour', 'c': 33.56}, {'l': 33.01, 'v': 39454, 'time': '2021-08-09T04:00:00+00:00', 'h': 34.13, 'o': 33.21, 'interval': 'hour', 'c': 33.48}, {'l': 33.41, 'v': 11770, 'time': '2021-08-09T05:00:00+00:00', 'h': 33.54, 'o': 33.48, 'interval': 'hour', 'c': 33.52}, {'l': 33.49, 'v': 24147, 'time': '2021-08-09T06:00:00+00:00', 'h': 33.84, 'o': 33.5, 'interval': 'hour', 'c': 33.64}, {'l': 33.64, 'v': 67120, 'time': '2021-08-09T07:00:00+00:00', 'h': 33.98, 'o': 33.64, 'interval': 'hour', 'c': 33.76}, {'l': 33.51, 'v': 75505, 'time': '2021-08-09T08:00:00+00:00', 'h': 33.9, 'o': 33.76, 'interval': 'hour', 'c': 33.73}, {'l': 33.55, 'v': 33616, 'time': '2021-08-09T09:00:00+00:00', 'h': 33.74, 'o': 33.72, 'interval': 'hour', 'c': 33.66}, {'l': 33.51, 'v': 31582, 'time': '2021-08-09T10:00:00+00:00', 'h': 33.75, 'o': 33.66, 'interval': 'hour', 'c': 33.51}]\n"
     ]
    }
   ],
   "source": [
    "print(candles[:10])"
   ]
  },
  {
   "cell_type": "code",
   "execution_count": 17,
   "id": "500eef86",
   "metadata": {},
   "outputs": [],
   "source": [
    "j = json.dumps(candles)\n",
    "dfj = pd.read_json(j)"
   ]
  },
  {
   "cell_type": "code",
   "execution_count": 74,
   "id": "2fe185d6",
   "metadata": {},
   "outputs": [
    {
     "data": {
      "text/html": [
       "<div>\n",
       "<style scoped>\n",
       "    .dataframe tbody tr th:only-of-type {\n",
       "        vertical-align: middle;\n",
       "    }\n",
       "\n",
       "    .dataframe tbody tr th {\n",
       "        vertical-align: top;\n",
       "    }\n",
       "\n",
       "    .dataframe thead th {\n",
       "        text-align: right;\n",
       "    }\n",
       "</style>\n",
       "<table border=\"1\" class=\"dataframe\">\n",
       "  <thead>\n",
       "    <tr style=\"text-align: right;\">\n",
       "      <th></th>\n",
       "      <th>l</th>\n",
       "      <th>h</th>\n",
       "      <th>o</th>\n",
       "      <th>time</th>\n",
       "      <th>interval</th>\n",
       "      <th>c</th>\n",
       "      <th>v</th>\n",
       "    </tr>\n",
       "  </thead>\n",
       "  <tbody>\n",
       "    <tr>\n",
       "      <th>0</th>\n",
       "      <td>33.45</td>\n",
       "      <td>33.70</td>\n",
       "      <td>33.50</td>\n",
       "      <td>2021-08-06T21:00:00+00:00</td>\n",
       "      <td>hour</td>\n",
       "      <td>33.49</td>\n",
       "      <td>36166</td>\n",
       "    </tr>\n",
       "    <tr>\n",
       "      <th>1</th>\n",
       "      <td>33.47</td>\n",
       "      <td>33.56</td>\n",
       "      <td>33.49</td>\n",
       "      <td>2021-08-06T22:00:00+00:00</td>\n",
       "      <td>hour</td>\n",
       "      <td>33.56</td>\n",
       "      <td>17070</td>\n",
       "    </tr>\n",
       "    <tr>\n",
       "      <th>2</th>\n",
       "      <td>33.01</td>\n",
       "      <td>34.13</td>\n",
       "      <td>33.21</td>\n",
       "      <td>2021-08-09T04:00:00+00:00</td>\n",
       "      <td>hour</td>\n",
       "      <td>33.48</td>\n",
       "      <td>39454</td>\n",
       "    </tr>\n",
       "    <tr>\n",
       "      <th>3</th>\n",
       "      <td>33.41</td>\n",
       "      <td>33.54</td>\n",
       "      <td>33.48</td>\n",
       "      <td>2021-08-09T05:00:00+00:00</td>\n",
       "      <td>hour</td>\n",
       "      <td>33.52</td>\n",
       "      <td>11770</td>\n",
       "    </tr>\n",
       "    <tr>\n",
       "      <th>4</th>\n",
       "      <td>33.49</td>\n",
       "      <td>33.84</td>\n",
       "      <td>33.50</td>\n",
       "      <td>2021-08-09T06:00:00+00:00</td>\n",
       "      <td>hour</td>\n",
       "      <td>33.64</td>\n",
       "      <td>24147</td>\n",
       "    </tr>\n",
       "  </tbody>\n",
       "</table>\n",
       "</div>"
      ],
      "text/plain": [
       "       l      h      o                       time interval      c      v\n",
       "0  33.45  33.70  33.50  2021-08-06T21:00:00+00:00     hour  33.49  36166\n",
       "1  33.47  33.56  33.49  2021-08-06T22:00:00+00:00     hour  33.56  17070\n",
       "2  33.01  34.13  33.21  2021-08-09T04:00:00+00:00     hour  33.48  39454\n",
       "3  33.41  33.54  33.48  2021-08-09T05:00:00+00:00     hour  33.52  11770\n",
       "4  33.49  33.84  33.50  2021-08-09T06:00:00+00:00     hour  33.64  24147"
      ]
     },
     "execution_count": 74,
     "metadata": {},
     "output_type": "execute_result"
    }
   ],
   "source": [
    "dfj.head()"
   ]
  },
  {
   "cell_type": "code",
   "execution_count": 6,
   "id": "2a7f0200",
   "metadata": {},
   "outputs": [],
   "source": [
    "dfc = pd.DataFrame(candles)"
   ]
  },
  {
   "cell_type": "code",
   "execution_count": 70,
   "id": "5c1e8a12",
   "metadata": {},
   "outputs": [
    {
     "data": {
      "text/html": [
       "<div>\n",
       "<style scoped>\n",
       "    .dataframe tbody tr th:only-of-type {\n",
       "        vertical-align: middle;\n",
       "    }\n",
       "\n",
       "    .dataframe tbody tr th {\n",
       "        vertical-align: top;\n",
       "    }\n",
       "\n",
       "    .dataframe thead th {\n",
       "        text-align: right;\n",
       "    }\n",
       "</style>\n",
       "<table border=\"1\" class=\"dataframe\">\n",
       "  <thead>\n",
       "    <tr style=\"text-align: right;\">\n",
       "      <th></th>\n",
       "      <th>l</th>\n",
       "      <th>h</th>\n",
       "      <th>o</th>\n",
       "      <th>time</th>\n",
       "      <th>interval</th>\n",
       "      <th>c</th>\n",
       "      <th>v</th>\n",
       "    </tr>\n",
       "  </thead>\n",
       "  <tbody>\n",
       "    <tr>\n",
       "      <th>0</th>\n",
       "      <td>33.45</td>\n",
       "      <td>33.70</td>\n",
       "      <td>33.50</td>\n",
       "      <td>2021-08-06T21:00:00+00:00</td>\n",
       "      <td>hour</td>\n",
       "      <td>33.49</td>\n",
       "      <td>36166</td>\n",
       "    </tr>\n",
       "    <tr>\n",
       "      <th>1</th>\n",
       "      <td>33.47</td>\n",
       "      <td>33.56</td>\n",
       "      <td>33.49</td>\n",
       "      <td>2021-08-06T22:00:00+00:00</td>\n",
       "      <td>hour</td>\n",
       "      <td>33.56</td>\n",
       "      <td>17070</td>\n",
       "    </tr>\n",
       "    <tr>\n",
       "      <th>2</th>\n",
       "      <td>33.01</td>\n",
       "      <td>34.13</td>\n",
       "      <td>33.21</td>\n",
       "      <td>2021-08-09T04:00:00+00:00</td>\n",
       "      <td>hour</td>\n",
       "      <td>33.48</td>\n",
       "      <td>39454</td>\n",
       "    </tr>\n",
       "    <tr>\n",
       "      <th>3</th>\n",
       "      <td>33.41</td>\n",
       "      <td>33.54</td>\n",
       "      <td>33.48</td>\n",
       "      <td>2021-08-09T05:00:00+00:00</td>\n",
       "      <td>hour</td>\n",
       "      <td>33.52</td>\n",
       "      <td>11770</td>\n",
       "    </tr>\n",
       "    <tr>\n",
       "      <th>4</th>\n",
       "      <td>33.49</td>\n",
       "      <td>33.84</td>\n",
       "      <td>33.50</td>\n",
       "      <td>2021-08-09T06:00:00+00:00</td>\n",
       "      <td>hour</td>\n",
       "      <td>33.64</td>\n",
       "      <td>24147</td>\n",
       "    </tr>\n",
       "  </tbody>\n",
       "</table>\n",
       "</div>"
      ],
      "text/plain": [
       "       l      h      o                       time interval      c      v\n",
       "0  33.45  33.70  33.50  2021-08-06T21:00:00+00:00     hour  33.49  36166\n",
       "1  33.47  33.56  33.49  2021-08-06T22:00:00+00:00     hour  33.56  17070\n",
       "2  33.01  34.13  33.21  2021-08-09T04:00:00+00:00     hour  33.48  39454\n",
       "3  33.41  33.54  33.48  2021-08-09T05:00:00+00:00     hour  33.52  11770\n",
       "4  33.49  33.84  33.50  2021-08-09T06:00:00+00:00     hour  33.64  24147"
      ]
     },
     "execution_count": 70,
     "metadata": {},
     "output_type": "execute_result"
    }
   ],
   "source": [
    "dfc.head()"
   ]
  },
  {
   "cell_type": "code",
   "execution_count": 16,
   "id": "d8d829d8",
   "metadata": {},
   "outputs": [
    {
     "ename": "NameError",
     "evalue": "name 'dfj' is not defined",
     "output_type": "error",
     "traceback": [
      "\u001b[0;31m---------------------------------------------------------------------------\u001b[0m",
      "\u001b[0;31mNameError\u001b[0m                                 Traceback (most recent call last)",
      "\u001b[0;32m/tmp/ipykernel_26/3908850434.py\u001b[0m in \u001b[0;36m<module>\u001b[0;34m\u001b[0m\n\u001b[0;32m----> 1\u001b[0;31m \u001b[0mdfj\u001b[0m \u001b[0;34m==\u001b[0m \u001b[0mdfc\u001b[0m\u001b[0;34m\u001b[0m\u001b[0;34m\u001b[0m\u001b[0m\n\u001b[0m",
      "\u001b[0;31mNameError\u001b[0m: name 'dfj' is not defined"
     ]
    }
   ],
   "source": [
    "dfj == dfc"
   ]
  },
  {
   "cell_type": "code",
   "execution_count": 15,
   "id": "8c582546",
   "metadata": {},
   "outputs": [
    {
     "data": {
      "text/html": [
       "<div>\n",
       "<style scoped>\n",
       "    .dataframe tbody tr th:only-of-type {\n",
       "        vertical-align: middle;\n",
       "    }\n",
       "\n",
       "    .dataframe tbody tr th {\n",
       "        vertical-align: top;\n",
       "    }\n",
       "\n",
       "    .dataframe thead th {\n",
       "        text-align: right;\n",
       "    }\n",
       "</style>\n",
       "<table border=\"1\" class=\"dataframe\">\n",
       "  <thead>\n",
       "    <tr style=\"text-align: right;\">\n",
       "      <th></th>\n",
       "      <th>o</th>\n",
       "      <th>h</th>\n",
       "      <th>l</th>\n",
       "      <th>c</th>\n",
       "    </tr>\n",
       "  </thead>\n",
       "  <tbody>\n",
       "    <tr>\n",
       "      <th>0</th>\n",
       "      <td>33.21</td>\n",
       "      <td>34.13</td>\n",
       "      <td>33.01</td>\n",
       "      <td>33.48</td>\n",
       "    </tr>\n",
       "    <tr>\n",
       "      <th>1</th>\n",
       "      <td>33.48</td>\n",
       "      <td>33.54</td>\n",
       "      <td>33.41</td>\n",
       "      <td>33.52</td>\n",
       "    </tr>\n",
       "    <tr>\n",
       "      <th>2</th>\n",
       "      <td>33.50</td>\n",
       "      <td>33.84</td>\n",
       "      <td>33.49</td>\n",
       "      <td>33.64</td>\n",
       "    </tr>\n",
       "    <tr>\n",
       "      <th>3</th>\n",
       "      <td>33.64</td>\n",
       "      <td>33.98</td>\n",
       "      <td>33.64</td>\n",
       "      <td>33.76</td>\n",
       "    </tr>\n",
       "    <tr>\n",
       "      <th>4</th>\n",
       "      <td>33.76</td>\n",
       "      <td>33.90</td>\n",
       "      <td>33.51</td>\n",
       "      <td>33.73</td>\n",
       "    </tr>\n",
       "    <tr>\n",
       "      <th>...</th>\n",
       "      <td>...</td>\n",
       "      <td>...</td>\n",
       "      <td>...</td>\n",
       "      <td>...</td>\n",
       "    </tr>\n",
       "    <tr>\n",
       "      <th>90</th>\n",
       "      <td>25.74</td>\n",
       "      <td>25.77</td>\n",
       "      <td>25.40</td>\n",
       "      <td>25.47</td>\n",
       "    </tr>\n",
       "    <tr>\n",
       "      <th>91</th>\n",
       "      <td>25.48</td>\n",
       "      <td>25.78</td>\n",
       "      <td>25.27</td>\n",
       "      <td>25.35</td>\n",
       "    </tr>\n",
       "    <tr>\n",
       "      <th>92</th>\n",
       "      <td>25.39</td>\n",
       "      <td>25.49</td>\n",
       "      <td>25.21</td>\n",
       "      <td>25.30</td>\n",
       "    </tr>\n",
       "    <tr>\n",
       "      <th>93</th>\n",
       "      <td>25.29</td>\n",
       "      <td>25.51</td>\n",
       "      <td>25.29</td>\n",
       "      <td>25.41</td>\n",
       "    </tr>\n",
       "    <tr>\n",
       "      <th>94</th>\n",
       "      <td>25.41</td>\n",
       "      <td>25.51</td>\n",
       "      <td>25.38</td>\n",
       "      <td>25.41</td>\n",
       "    </tr>\n",
       "  </tbody>\n",
       "</table>\n",
       "<p>95 rows × 4 columns</p>\n",
       "</div>"
      ],
      "text/plain": [
       "        o      h      l      c\n",
       "0   33.21  34.13  33.01  33.48\n",
       "1   33.48  33.54  33.41  33.52\n",
       "2   33.50  33.84  33.49  33.64\n",
       "3   33.64  33.98  33.64  33.76\n",
       "4   33.76  33.90  33.51  33.73\n",
       "..    ...    ...    ...    ...\n",
       "90  25.74  25.77  25.40  25.47\n",
       "91  25.48  25.78  25.27  25.35\n",
       "92  25.39  25.49  25.21  25.30\n",
       "93  25.29  25.51  25.29  25.41\n",
       "94  25.41  25.51  25.38  25.41\n",
       "\n",
       "[95 rows x 4 columns]"
      ]
     },
     "execution_count": 15,
     "metadata": {},
     "output_type": "execute_result"
    }
   ],
   "source": [
    "dfc[['o', 'h', 'l', 'c']]"
   ]
  },
  {
   "cell_type": "code",
   "execution_count": 14,
   "id": "20ec9bf2",
   "metadata": {},
   "outputs": [
    {
     "data": {
      "text/plain": [
       "['2021-08-09T04:00',\n",
       " '2021-08-09T05:00',\n",
       " '2021-08-09T06:00',\n",
       " '2021-08-09T07:00',\n",
       " '2021-08-09T08:00']"
      ]
     },
     "execution_count": 14,
     "metadata": {},
     "output_type": "execute_result"
    }
   ],
   "source": [
    "[t[:16] for t in dfc.head().time]"
   ]
  },
  {
   "cell_type": "code",
   "execution_count": 19,
   "id": "ef15fa64",
   "metadata": {},
   "outputs": [
    {
     "name": "stdout",
     "output_type": "stream",
     "text": [
      "x-axis remains\n"
     ]
    },
    {
     "data": {
      "application/vnd.jupyter.widget-view+json": {
       "model_id": "2cdc3b35222a4c94965885a487b0eaa2",
       "version_major": 2,
       "version_minor": 0
      },
      "text/plain": [
       "VBox(children=(Figure(axes=[Axis(label='Date', scale=LinearScale()), Axis(orientation='vertical', scale=Linear…"
      ]
     },
     "metadata": {},
     "output_type": "display_data"
    }
   ],
   "source": [
    "fig = plt.figure(title=\"CandleStick Chart\")\n",
    "fig.layout.width=\"800px\"\n",
    "\n",
    "ohlc = plt.ohlc(x=dfc.index, y=dfc[[\"o\",\"h\",\"l\", \"c\"]],\n",
    "                marker=\"candle\", stroke=\"#333\")\n",
    "\n",
    "ohlc.colors=[\"#15bb15\", \"#c50011\"]\n",
    "plt.xlabel(\"Date\")\n",
    "print('x-axis remains')\n",
    "plt.show()"
   ]
  },
  {
   "cell_type": "code",
   "execution_count": 24,
   "id": "3cdb0ec7",
   "metadata": {},
   "outputs": [
    {
     "data": {
      "text/html": [
       "<div>\n",
       "<style scoped>\n",
       "    .dataframe tbody tr th:only-of-type {\n",
       "        vertical-align: middle;\n",
       "    }\n",
       "\n",
       "    .dataframe tbody tr th {\n",
       "        vertical-align: top;\n",
       "    }\n",
       "\n",
       "    .dataframe thead th {\n",
       "        text-align: right;\n",
       "    }\n",
       "</style>\n",
       "<table border=\"1\" class=\"dataframe\">\n",
       "  <thead>\n",
       "    <tr style=\"text-align: right;\">\n",
       "      <th></th>\n",
       "      <th>l</th>\n",
       "      <th>time</th>\n",
       "      <th>o</th>\n",
       "      <th>c</th>\n",
       "      <th>v</th>\n",
       "      <th>h</th>\n",
       "      <th>interval</th>\n",
       "    </tr>\n",
       "  </thead>\n",
       "  <tbody>\n",
       "    <tr>\n",
       "      <th>90</th>\n",
       "      <td>25.40</td>\n",
       "      <td>2021-08-13 18:00:00+00:00</td>\n",
       "      <td>25.74</td>\n",
       "      <td>25.47</td>\n",
       "      <td>292117</td>\n",
       "      <td>25.77</td>\n",
       "      <td>hour</td>\n",
       "    </tr>\n",
       "    <tr>\n",
       "      <th>91</th>\n",
       "      <td>25.27</td>\n",
       "      <td>2021-08-13 19:00:00+00:00</td>\n",
       "      <td>25.48</td>\n",
       "      <td>25.35</td>\n",
       "      <td>645637</td>\n",
       "      <td>25.78</td>\n",
       "      <td>hour</td>\n",
       "    </tr>\n",
       "    <tr>\n",
       "      <th>92</th>\n",
       "      <td>25.21</td>\n",
       "      <td>2021-08-13 20:00:00+00:00</td>\n",
       "      <td>25.39</td>\n",
       "      <td>25.30</td>\n",
       "      <td>202565</td>\n",
       "      <td>25.49</td>\n",
       "      <td>hour</td>\n",
       "    </tr>\n",
       "    <tr>\n",
       "      <th>93</th>\n",
       "      <td>25.29</td>\n",
       "      <td>2021-08-13 21:00:00+00:00</td>\n",
       "      <td>25.29</td>\n",
       "      <td>25.41</td>\n",
       "      <td>26952</td>\n",
       "      <td>25.51</td>\n",
       "      <td>hour</td>\n",
       "    </tr>\n",
       "    <tr>\n",
       "      <th>94</th>\n",
       "      <td>25.38</td>\n",
       "      <td>2021-08-13 22:00:00+00:00</td>\n",
       "      <td>25.41</td>\n",
       "      <td>25.41</td>\n",
       "      <td>16729</td>\n",
       "      <td>25.51</td>\n",
       "      <td>hour</td>\n",
       "    </tr>\n",
       "  </tbody>\n",
       "</table>\n",
       "</div>"
      ],
      "text/plain": [
       "        l                      time      o      c       v      h interval\n",
       "90  25.40 2021-08-13 18:00:00+00:00  25.74  25.47  292117  25.77     hour\n",
       "91  25.27 2021-08-13 19:00:00+00:00  25.48  25.35  645637  25.78     hour\n",
       "92  25.21 2021-08-13 20:00:00+00:00  25.39  25.30  202565  25.49     hour\n",
       "93  25.29 2021-08-13 21:00:00+00:00  25.29  25.41   26952  25.51     hour\n",
       "94  25.38 2021-08-13 22:00:00+00:00  25.41  25.41   16729  25.51     hour"
      ]
     },
     "execution_count": 24,
     "metadata": {},
     "output_type": "execute_result"
    }
   ],
   "source": [
    "dfc[\"time\"] = pd.to_datetime(dfc[\"time\"])\n",
    "dfc2 = dfc.tail(21)\n",
    "dfc2.tail()"
   ]
  },
  {
   "cell_type": "code",
   "execution_count": 25,
   "id": "ca1dd781",
   "metadata": {},
   "outputs": [
    {
     "data": {
      "application/vnd.jupyter.widget-view+json": {
       "model_id": "11845fdefbbe4a4fa200d51e1134900f",
       "version_major": 2,
       "version_minor": 0
      },
      "text/plain": [
       "Figure(axes=[Axis(label='Date', scale=DateScale()), Axis(label='Price($)', orientation='vertical', scale=Linea…"
      ]
     },
     "metadata": {},
     "output_type": "display_data"
    }
   ],
   "source": [
    "x_date = DateScale()\n",
    "y_linear = LinearScale()\n",
    "\n",
    "line = Lines(x=dfc2.time, y=dfc2.c,\n",
    "             scales={'x':x_date, 'y': y_linear},\n",
    "             labels=[\"Close Price ($)\"],\n",
    "             colors=[\"dodgerblue\"],\n",
    "             display_legend=True,)\n",
    "\n",
    "ax_x = Axis(scale=x_date, label=\"Date\", grid_lines=\"solid\", )\n",
    "ax_y = Axis(scale=y_linear, label=\"Price($)\", orientation=\"vertical\", grid_lines=\"solid\")\n",
    "\n",
    "fig = Figure(marks=[line],\n",
    "       axes=[ax_x, ax_y],\n",
    "       legend_location = \"top-left\",\n",
    "       title=\"Stock Price\",)\n",
    "\n",
    "fig"
   ]
  },
  {
   "cell_type": "code",
   "execution_count": null,
   "id": "b4fca3b2",
   "metadata": {},
   "outputs": [],
   "source": []
  }
 ],
 "metadata": {
  "kernelspec": {
   "display_name": "Python 3 (ipykernel)",
   "language": "python",
   "name": "python3"
  },
  "language_info": {
   "codemirror_mode": {
    "name": "ipython",
    "version": 3
   },
   "file_extension": ".py",
   "mimetype": "text/x-python",
   "name": "python",
   "nbconvert_exporter": "python",
   "pygments_lexer": "ipython3",
   "version": "3.9.6"
  }
 },
 "nbformat": 4,
 "nbformat_minor": 5
}
