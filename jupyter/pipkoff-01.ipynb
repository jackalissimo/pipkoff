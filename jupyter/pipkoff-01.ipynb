{
 "cells": [
  {
   "cell_type": "code",
   "execution_count": 1,
   "id": "4d2ee4de",
   "metadata": {},
   "outputs": [],
   "source": [
    "import requests\n",
    "import json"
   ]
  },
  {
   "cell_type": "code",
   "execution_count": 9,
   "id": "a14f42f1",
   "metadata": {},
   "outputs": [
    {
     "name": "stdout",
     "output_type": "stream",
     "text": [
      "{'ticker': 'SONY', 'figi': 'BBG000BT7ZK6', 'active': 1, 'min_price_increment': 0.01, 'currency': 'USD', 'type': 'Stock', 'lot': 1, 'isin': 'US8356993076', 'id': 1658, 'name': 'Sony Corp'}\n"
     ]
    }
   ],
   "source": [
    "id  = 1658\n",
    "figi = 'BBG000BT7ZK6'\n",
    "ticker = 'SONY'\n",
    "res = requests.get('http://pipkoff-api:80/api/v0/stock', params={'id': id})\n",
    "assert res.status_code == 200\n",
    "cont = json.loads(res.content)\n",
    "stock = cont['data']['stocks'][0]\n",
    "assert stock['ticker'] == ticker\n",
    "assert stock['figi'] == figi\n",
    "assert stock['id'] == id\n",
    "print(stock)"
   ]
  },
  {
   "cell_type": "code",
   "execution_count": 3,
   "id": "d5aa068a",
   "metadata": {},
   "outputs": [
    {
     "name": "stdout",
     "output_type": "stream",
     "text": [
      "{'min_price_increment': 0.01, 'id': 1435, 'ticker': 'AAL', 'type': 'Stock', 'currency': 'USD', 'lot': 1, 'isin': 'US02376R1023', 'name': 'American Airlines Group', 'active': 1, 'figi': 'BBG005P7Q881'}\n"
     ]
    }
   ],
   "source": [
    "ticker = 'AAL'\n",
    "res = requests.get('http://pipkoff-api:80/api/v0/stock', params={'ticker': ticker})\n",
    "assert res.status_code == 200\n",
    "cont = json.loads(res.content)\n",
    "stock = cont['data']['stocks'][0]\n",
    "print(stock)\n"
   ]
  },
  {
   "cell_type": "code",
   "execution_count": 11,
   "id": "1c95f2a0",
   "metadata": {},
   "outputs": [
    {
     "name": "stdout",
     "output_type": "stream",
     "text": [
      "{'data': {'intervals': ['1min', '2min', '3min', '5min', '10min', '15min', '30min', 'hour', 'day', 'week', 'month']}, 'success': True}\n"
     ]
    }
   ],
   "source": [
    "res = requests.get('http://pipkoff-api:80/api/v0/market/intervals')\n",
    "assert res.status_code == 200\n",
    "cont = json.loads(res.content)\n",
    "print(cont)\n"
   ]
  },
  {
   "cell_type": "code",
   "execution_count": 41,
   "id": "d4656625",
   "metadata": {},
   "outputs": [
    {
     "name": "stdout",
     "output_type": "stream",
     "text": [
      "{'data': {'candles': [{'interval': 'hour', 'v': 1013, 'l': 1.75, 'h': 1.76, 'o': 1.76, 'c': 1.75, 'time': '2021-08-10T10:00:00+00:00'}, {'interval': 'hour', 'v': 2507, 'l': 1.75, 'h': 1.76, 'o': 1.76, 'c': 1.76, 'time': '2021-08-10T11:00:00+00:00'}, {'interval': 'hour', 'v': 321760, 'l': 1.73, 'h': 1.76, 'o': 1.75, 'c': 1.75, 'time': '2021-08-10T12:00:00+00:00'}, {'interval': 'hour', 'v': 257679, 'l': 1.73, 'h': 1.75, 'o': 1.75, 'c': 1.73, 'time': '2021-08-10T13:00:00+00:00'}, {'interval': 'hour', 'v': 388198, 'l': 1.69, 'h': 1.73, 'o': 1.72, 'c': 1.72, 'time': '2021-08-10T14:00:00+00:00'}, {'interval': 'hour', 'v': 23323, 'l': 1.71, 'h': 1.73, 'o': 1.72, 'c': 1.73, 'time': '2021-08-10T15:00:00+00:00'}, {'interval': 'hour', 'v': 5771, 'l': 1.71, 'h': 1.73, 'o': 1.71, 'c': 1.73, 'time': '2021-08-10T16:00:00+00:00'}, {'interval': 'hour', 'v': 27570, 'l': 1.71, 'h': 1.73, 'o': 1.73, 'c': 1.72, 'time': '2021-08-10T17:00:00+00:00'}, {'interval': 'hour', 'v': 21727, 'l': 1.71, 'h': 1.73, 'o': 1.73, 'c': 1.73, 'time': '2021-08-10T18:00:00+00:00'}, {'interval': 'hour', 'v': 43892, 'l': 1.71, 'h': 1.73, 'o': 1.72, 'c': 1.73, 'time': '2021-08-10T19:00:00+00:00'}, {'interval': 'hour', 'v': 159252, 'l': 1.71, 'h': 1.73, 'o': 1.73, 'c': 1.73, 'time': '2021-08-10T20:00:00+00:00'}, {'interval': 'hour', 'v': 1788, 'l': 1.72, 'h': 1.73, 'o': 1.73, 'c': 1.72, 'time': '2021-08-10T21:00:00+00:00'}, {'interval': 'hour', 'v': 2805, 'l': 1.72, 'h': 1.73, 'o': 1.72, 'c': 1.73, 'time': '2021-08-10T22:00:00+00:00'}, {'interval': 'hour', 'v': 2341, 'l': 1.72, 'h': 1.73, 'o': 1.73, 'c': 1.73, 'time': '2021-08-11T07:00:00+00:00'}, {'interval': 'hour', 'v': 3328, 'l': 1.72, 'h': 1.73, 'o': 1.72, 'c': 1.73, 'time': '2021-08-11T08:00:00+00:00'}, {'interval': 'hour', 'v': 8517, 'l': 1.72, 'h': 1.73, 'o': 1.72, 'c': 1.73, 'time': '2021-08-11T09:00:00+00:00'}, {'interval': 'hour', 'v': 986, 'l': 1.72, 'h': 1.73, 'o': 1.72, 'c': 1.73, 'time': '2021-08-11T10:00:00+00:00'}, {'interval': 'hour', 'v': 7798, 'l': 1.72, 'h': 1.73, 'o': 1.73, 'c': 1.72, 'time': '2021-08-11T11:00:00+00:00'}, {'interval': 'hour', 'v': 2684, 'l': 1.72, 'h': 1.73, 'o': 1.73, 'c': 1.72, 'time': '2021-08-11T12:00:00+00:00'}, {'interval': 'hour', 'v': 4960, 'l': 1.72, 'h': 1.73, 'o': 1.73, 'c': 1.73, 'time': '2021-08-11T13:00:00+00:00'}, {'interval': 'hour', 'v': 4475, 'l': 1.72, 'h': 1.73, 'o': 1.73, 'c': 1.72, 'time': '2021-08-11T14:00:00+00:00'}, {'interval': 'hour', 'v': 77372, 'l': 1.7, 'h': 1.73, 'o': 1.72, 'c': 1.71, 'time': '2021-08-11T15:00:00+00:00'}, {'interval': 'hour', 'v': 3499, 'l': 1.71, 'h': 1.72, 'o': 1.72, 'c': 1.72, 'time': '2021-08-11T16:00:00+00:00'}, {'interval': 'hour', 'v': 8038, 'l': 1.71, 'h': 1.72, 'o': 1.72, 'c': 1.72, 'time': '2021-08-11T17:00:00+00:00'}, {'interval': 'hour', 'v': 3436, 'l': 1.71, 'h': 1.72, 'o': 1.72, 'c': 1.72, 'time': '2021-08-11T18:00:00+00:00'}, {'interval': 'hour', 'v': 12350, 'l': 1.71, 'h': 1.72, 'o': 1.71, 'c': 1.72, 'time': '2021-08-11T19:00:00+00:00'}, {'interval': 'hour', 'v': 526596, 'l': 1.69, 'h': 1.72, 'o': 1.71, 'c': 1.71, 'time': '2021-08-11T20:00:00+00:00'}, {'interval': 'hour', 'v': 521, 'l': 1.7, 'h': 1.71, 'o': 1.71, 'c': 1.7, 'time': '2021-08-11T21:00:00+00:00'}, {'interval': 'hour', 'v': 1559, 'l': 1.7, 'h': 1.71, 'o': 1.71, 'c': 1.71, 'time': '2021-08-11T22:00:00+00:00'}, {'interval': 'hour', 'v': 2259, 'l': 1.7, 'h': 1.71, 'o': 1.71, 'c': 1.7, 'time': '2021-08-12T07:00:00+00:00'}, {'interval': 'hour', 'v': 5410, 'l': 1.7, 'h': 1.71, 'o': 1.71, 'c': 1.71, 'time': '2021-08-12T08:00:00+00:00'}, {'interval': 'hour', 'v': 13080, 'l': 1.7, 'h': 1.71, 'o': 1.71, 'c': 1.71, 'time': '2021-08-12T09:00:00+00:00'}, {'interval': 'hour', 'v': 13539, 'l': 1.7, 'h': 1.71, 'o': 1.7, 'c': 1.71, 'time': '2021-08-12T10:00:00+00:00'}, {'interval': 'hour', 'v': 2929, 'l': 1.7, 'h': 1.72, 'o': 1.71, 'c': 1.71, 'time': '2021-08-12T11:00:00+00:00'}, {'interval': 'hour', 'v': 15620, 'l': 1.7, 'h': 1.72, 'o': 1.71, 'c': 1.71, 'time': '2021-08-12T12:00:00+00:00'}, {'interval': 'hour', 'v': 86107, 'l': 1.69, 'h': 1.72, 'o': 1.7, 'c': 1.71, 'time': '2021-08-12T13:00:00+00:00'}, {'interval': 'hour', 'v': 56025, 'l': 1.69, 'h': 1.71, 'o': 1.71, 'c': 1.7, 'time': '2021-08-12T14:00:00+00:00'}, {'interval': 'hour', 'v': 758449, 'l': 1.64, 'h': 1.7, 'o': 1.7, 'c': 1.65, 'time': '2021-08-12T15:00:00+00:00'}, {'interval': 'hour', 'v': 379084, 'l': 1.63, 'h': 1.66, 'o': 1.65, 'c': 1.65, 'time': '2021-08-12T16:00:00+00:00'}, {'interval': 'hour', 'v': 166536, 'l': 1.64, 'h': 1.66, 'o': 1.65, 'c': 1.65, 'time': '2021-08-12T17:00:00+00:00'}, {'interval': 'hour', 'v': 102801, 'l': 1.65, 'h': 1.67, 'o': 1.66, 'c': 1.67, 'time': '2021-08-12T18:00:00+00:00'}, {'interval': 'hour', 'v': 260325, 'l': 1.65, 'h': 1.67, 'o': 1.67, 'c': 1.66, 'time': '2021-08-12T19:00:00+00:00'}, {'interval': 'hour', 'v': 578061, 'l': 1.66, 'h': 1.68, 'o': 1.67, 'c': 1.68, 'time': '2021-08-12T20:00:00+00:00'}]}, 'success': True}\n"
     ]
    }
   ],
   "source": [
    "ticker = 'VEON'\n",
    "interval = 'hour'\n",
    "res = requests.get('http://pipkoff-api:80/api/v0/market/candles', params={'ticker': ticker, 'interval': interval})\n",
    "cont = json.loads(res.content)\n",
    "print(cont)"
   ]
  }
 ],
 "metadata": {
  "kernelspec": {
   "display_name": "Python 3 (ipykernel)",
   "language": "python",
   "name": "python3"
  },
  "language_info": {
   "codemirror_mode": {
    "name": "ipython",
    "version": 3
   },
   "file_extension": ".py",
   "mimetype": "text/x-python",
   "name": "python",
   "nbconvert_exporter": "python",
   "pygments_lexer": "ipython3",
   "version": "3.9.6"
  }
 },
 "nbformat": 4,
 "nbformat_minor": 5
}
