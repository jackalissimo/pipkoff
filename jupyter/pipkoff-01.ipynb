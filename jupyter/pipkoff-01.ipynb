{
 "cells": [
  {
   "cell_type": "code",
   "execution_count": 37,
   "id": "4d2ee4de",
   "metadata": {},
   "outputs": [],
   "source": [
    "import requests\n",
    "import json\n",
    "import pandas as pd"
   ]
  },
  {
   "cell_type": "code",
   "execution_count": 9,
   "id": "a14f42f1",
   "metadata": {},
   "outputs": [
    {
     "name": "stdout",
     "output_type": "stream",
     "text": [
      "{'ticker': 'SONY', 'figi': 'BBG000BT7ZK6', 'active': 1, 'min_price_increment': 0.01, 'currency': 'USD', 'type': 'Stock', 'lot': 1, 'isin': 'US8356993076', 'id': 1658, 'name': 'Sony Corp'}\n"
     ]
    }
   ],
   "source": [
    "id  = 1658\n",
    "figi = 'BBG000BT7ZK6'\n",
    "ticker = 'SONY'\n",
    "res = requests.get('http://pipkoff-api:80/api/v0/stock', params={'id': id})\n",
    "assert res.status_code == 200\n",
    "cont = json.loads(res.content)\n",
    "stock = cont['data']['stocks'][0]\n",
    "assert stock['ticker'] == ticker\n",
    "assert stock['figi'] == figi\n",
    "assert stock['id'] == id\n",
    "print(stock)"
   ]
  },
  {
   "cell_type": "code",
   "execution_count": 3,
   "id": "d5aa068a",
   "metadata": {},
   "outputs": [
    {
     "name": "stdout",
     "output_type": "stream",
     "text": [
      "{'min_price_increment': 0.01, 'id': 1435, 'ticker': 'AAL', 'type': 'Stock', 'currency': 'USD', 'lot': 1, 'isin': 'US02376R1023', 'name': 'American Airlines Group', 'active': 1, 'figi': 'BBG005P7Q881'}\n"
     ]
    }
   ],
   "source": [
    "ticker = 'AAL'\n",
    "res = requests.get('http://pipkoff-api:80/api/v0/stock', params={'ticker': ticker})\n",
    "assert res.status_code == 200\n",
    "cont = json.loads(res.content)\n",
    "stock = cont['data']['stocks'][0]\n",
    "print(stock)\n"
   ]
  },
  {
   "cell_type": "code",
   "execution_count": 11,
   "id": "1c95f2a0",
   "metadata": {},
   "outputs": [
    {
     "name": "stdout",
     "output_type": "stream",
     "text": [
      "{'data': {'intervals': ['1min', '2min', '3min', '5min', '10min', '15min', '30min', 'hour', 'day', 'week', 'month']}, 'success': True}\n"
     ]
    }
   ],
   "source": [
    "res = requests.get('http://pipkoff-api:80/api/v0/market/intervals')\n",
    "assert res.status_code == 200\n",
    "cont = json.loads(res.content)\n",
    "print(cont)\n"
   ]
  },
  {
   "cell_type": "code",
   "execution_count": 41,
   "id": "02547647",
   "metadata": {},
   "outputs": [
    {
     "name": "stdout",
     "output_type": "stream",
     "text": [
      "{'data': {'stocks': [{'min_price_increment': 0.01, 'type': 'Stock', 'isin': 'US92766K1060', 'id': 184, 'figi': 'BBG00HTN2CQ3', 'name': 'Virgin Galactic Holdings Inc Class A', 'ticker': 'SPCE', 'lot': 1, 'active': 1, 'currency': 'USD'}]}, 'success': True}\n"
     ]
    }
   ],
   "source": [
    "res = requests.get('http://pipkoff-api:80/api/v0/stock', params={'name': 'virgin'})\n",
    "print(json.loads(res.content))"
   ]
  },
  {
   "cell_type": "code",
   "execution_count": 44,
   "id": "d4656625",
   "metadata": {},
   "outputs": [
    {
     "name": "stdout",
     "output_type": "stream",
     "text": [
      "95\n"
     ]
    }
   ],
   "source": [
    "ticker = 'SPCE'\n",
    "interval = 'hour'\n",
    "res = requests.get('http://pipkoff-api:80/api/v0/market/candles', params={'ticker': ticker, 'interval': interval})\n",
    "cont = json.loads(res.content)\n",
    "candles = cont['data']['candles']\n",
    "print(len(candles))"
   ]
  },
  {
   "cell_type": "code",
   "execution_count": 45,
   "id": "f2593647",
   "metadata": {},
   "outputs": [
    {
     "name": "stdout",
     "output_type": "stream",
     "text": [
      "[{'l': 33.28, 'v': 222582, 'time': '2021-08-06T20:00:00+00:00', 'h': 33.93, 'o': 33.43, 'interval': 'hour', 'c': 33.46}, {'l': 33.45, 'v': 36166, 'time': '2021-08-06T21:00:00+00:00', 'h': 33.7, 'o': 33.5, 'interval': 'hour', 'c': 33.49}, {'l': 33.47, 'v': 17070, 'time': '2021-08-06T22:00:00+00:00', 'h': 33.56, 'o': 33.49, 'interval': 'hour', 'c': 33.56}, {'l': 33.01, 'v': 39454, 'time': '2021-08-09T04:00:00+00:00', 'h': 34.13, 'o': 33.21, 'interval': 'hour', 'c': 33.48}, {'l': 33.41, 'v': 11770, 'time': '2021-08-09T05:00:00+00:00', 'h': 33.54, 'o': 33.48, 'interval': 'hour', 'c': 33.52}, {'l': 33.49, 'v': 24147, 'time': '2021-08-09T06:00:00+00:00', 'h': 33.84, 'o': 33.5, 'interval': 'hour', 'c': 33.64}, {'l': 33.64, 'v': 67120, 'time': '2021-08-09T07:00:00+00:00', 'h': 33.98, 'o': 33.64, 'interval': 'hour', 'c': 33.76}, {'l': 33.51, 'v': 75505, 'time': '2021-08-09T08:00:00+00:00', 'h': 33.9, 'o': 33.76, 'interval': 'hour', 'c': 33.73}, {'l': 33.55, 'v': 33616, 'time': '2021-08-09T09:00:00+00:00', 'h': 33.74, 'o': 33.72, 'interval': 'hour', 'c': 33.66}, {'l': 33.51, 'v': 31582, 'time': '2021-08-09T10:00:00+00:00', 'h': 33.75, 'o': 33.66, 'interval': 'hour', 'c': 33.51}]\n"
     ]
    }
   ],
   "source": [
    "print(candles[:10])"
   ]
  }
 ],
 "metadata": {
  "kernelspec": {
   "display_name": "Python 3 (ipykernel)",
   "language": "python",
   "name": "python3"
  },
  "language_info": {
   "codemirror_mode": {
    "name": "ipython",
    "version": 3
   },
   "file_extension": ".py",
   "mimetype": "text/x-python",
   "name": "python",
   "nbconvert_exporter": "python",
   "pygments_lexer": "ipython3",
   "version": "3.9.6"
  }
 },
 "nbformat": 4,
 "nbformat_minor": 5
}
