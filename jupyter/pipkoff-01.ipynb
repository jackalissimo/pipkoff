{
 "cells": [
  {
   "cell_type": "code",
   "execution_count": 6,
   "id": "4d2ee4de",
   "metadata": {},
   "outputs": [],
   "source": [
    "import requests\n",
    "import json"
   ]
  },
  {
   "cell_type": "code",
   "execution_count": 9,
   "id": "a14f42f1",
   "metadata": {},
   "outputs": [
    {
     "name": "stdout",
     "output_type": "stream",
     "text": [
      "{'ticker': 'SONY', 'figi': 'BBG000BT7ZK6', 'active': 1, 'min_price_increment': 0.01, 'currency': 'USD', 'type': 'Stock', 'lot': 1, 'isin': 'US8356993076', 'id': 1658, 'name': 'Sony Corp'}\n"
     ]
    }
   ],
   "source": [
    "id  = 1658\n",
    "figi = 'BBG000BT7ZK6'\n",
    "ticker = 'SONY'\n",
    "res = requests.get('http://pipkoff-api:80/api/v0/stock', params={'id': id})\n",
    "assert res.status_code == 200\n",
    "cont = json.loads(res.content)\n",
    "stock = cont['data']['stocks'][0]\n",
    "assert stock['ticker'] == ticker\n",
    "assert stock['figi'] == figi\n",
    "assert stock['id'] == id\n",
    "print(stock)"
   ]
  },
  {
   "cell_type": "code",
   "execution_count": null,
   "id": "d5aa068a",
   "metadata": {},
   "outputs": [],
   "source": []
  }
 ],
 "metadata": {
  "kernelspec": {
   "display_name": "Python 3 (ipykernel)",
   "language": "python",
   "name": "python3"
  },
  "language_info": {
   "codemirror_mode": {
    "name": "ipython",
    "version": 3
   },
   "file_extension": ".py",
   "mimetype": "text/x-python",
   "name": "python",
   "nbconvert_exporter": "python",
   "pygments_lexer": "ipython3",
   "version": "3.9.6"
  }
 },
 "nbformat": 4,
 "nbformat_minor": 5
}
