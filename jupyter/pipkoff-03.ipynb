{
 "cells": [
  {
   "cell_type": "code",
   "execution_count": 102,
   "id": "14c25e1f",
   "metadata": {},
   "outputs": [],
   "source": [
    "%run scripts/ohlc.py\n"
   ]
  },
  {
   "cell_type": "code",
   "execution_count": 20,
   "id": "bafc5504",
   "metadata": {},
   "outputs": [
    {
     "data": {
      "text/plain": [
       "['1min',\n",
       " '2min',\n",
       " '3min',\n",
       " '5min',\n",
       " '10min',\n",
       " '15min',\n",
       " '30min',\n",
       " 'hour',\n",
       " 'day',\n",
       " 'week',\n",
       " 'month']"
      ]
     },
     "execution_count": 20,
     "metadata": {},
     "output_type": "execute_result"
    }
   ],
   "source": [
    "get_intervals()"
   ]
  },
  {
   "cell_type": "code",
   "execution_count": 10,
   "id": "a724a395",
   "metadata": {},
   "outputs": [
    {
     "data": {
      "text/plain": [
       "[{'id': 963,\n",
       "  'lot': 1,\n",
       "  'active': 1,\n",
       "  'isin': 'US67066G1040',\n",
       "  'name': 'NVIDIA',\n",
       "  'ticker': 'NVDA',\n",
       "  'type': 'Stock',\n",
       "  'figi': 'BBG000BBJQV0',\n",
       "  'min_price_increment': 0.01,\n",
       "  'currency': 'USD'}]"
      ]
     },
     "execution_count": 10,
     "metadata": {},
     "output_type": "execute_result"
    }
   ],
   "source": [
    "get_stock(name='NVIDIA')"
   ]
  },
  {
   "cell_type": "code",
   "execution_count": 27,
   "id": "6baabcfb",
   "metadata": {},
   "outputs": [
    {
     "data": {
      "application/vnd.jupyter.widget-view+json": {
       "model_id": "adad15f70170406cac8fa101e06a8291",
       "version_major": 2,
       "version_minor": 0
      },
      "text/plain": [
       "Figure(axes=[Axis(grid_color='gray', label='Date', label_offset='35px', scale=DateScale()), Axis(grid_color='g…"
      ]
     },
     "metadata": {},
     "output_type": "display_data"
    }
   ],
   "source": [
    "show_ohlc('NVDA', 'week')"
   ]
  },
  {
   "cell_type": "code",
   "execution_count": 12,
   "id": "307061ae",
   "metadata": {},
   "outputs": [
    {
     "data": {
      "application/vnd.jupyter.widget-view+json": {
       "model_id": "a5647d51ee0146589725996bea7fb438",
       "version_major": 2,
       "version_minor": 0
      },
      "text/plain": [
       "Figure(axes=[Axis(grid_color='gray', label='Date', label_offset='35px', scale=DateScale()), Axis(grid_color='g…"
      ]
     },
     "metadata": {},
     "output_type": "display_data"
    }
   ],
   "source": [
    "show_ohlc('NVDA', 'day')"
   ]
  },
  {
   "cell_type": "code",
   "execution_count": 103,
   "id": "99943d9d",
   "metadata": {},
   "outputs": [
    {
     "name": "stdout",
     "output_type": "stream",
     "text": [
      "---Broker api response: {'success': False, 'data': '(500)\\nReason: Internal Server Error\\nHTTP response headers: HTTPHeaderDict({\\'Server\\': \\'nginx\\', \\'Date\\': \\'Sun, 15 Aug 2021 17:06:03 GMT\\', \\'Content-Type\\': \\'application/json\\', \\'Content-Length\\': \\'211\\', \\'Cache-Control\\': \\'no-store, no-cache, must-revalidate\\', \\'access-control-allow-origin\\': \\'*\\', \\'access-control-allow-headers\\': \\'accept, content-type, authorization, access-control-allow-headers, x-requested-with\\', \\'access-control-allow-methods\\': \\'GET,HEAD,POST,DELETE,OPTIONS,PUT,PATCH\\', \\'x-edge-processing-time\\': \\'21\\'})\\nHTTP response body: {\"trackingId\":\"11b943593fcf68b5\",\"payload\":{\"message\":\"[to]: Bad candle interval: from=2021-08-11T01:00:00Z to=2021-08-12T04:00:00Z expected from 30 minutes to 1 day\",\"code\":\"VALIDATION_ERROR\"},\"status\":\"Error\"}\\n', 'message': '(500)\\nReason: Internal Server Error\\nHTTP response headers: HTTPHeaderDict({\\'Server\\': \\'nginx\\', \\'Date\\': \\'Sun, 15 Aug 2021 17:06:03 GMT\\', \\'Content-Type\\': \\'application/json\\', \\'Content-Length\\': \\'211\\', \\'Cache-Control\\': \\'no-store, no-cache, must-revalidate\\', \\'access-control-allow-origin\\': \\'*\\', \\'access-control-allow-headers\\': \\'accept, content-type, authorization, access-control-allow-headers, x-requested-with\\', \\'access-control-allow-methods\\': \\'GET,HEAD,POST,DELETE,OPTIONS,PUT,PATCH\\', \\'x-edge-processing-time\\': \\'21\\'})\\nHTTP response body: {\"trackingId\":\"11b943593fcf68b5\",\"payload\":{\"message\":\"[to]: Bad candle interval: from=2021-08-11T01:00:00Z to=2021-08-12T04:00:00Z expected from 30 minutes to 1 day\",\"code\":\"VALIDATION_ERROR\"},\"status\":\"Error\"}\\n'}\n"
     ]
    },
    {
     "ename": "TypeError",
     "evalue": "string indices must be integers",
     "output_type": "error",
     "traceback": [
      "\u001b[0;31m---------------------------------------------------------------------------\u001b[0m",
      "\u001b[0;31mTypeError\u001b[0m                                 Traceback (most recent call last)",
      "\u001b[0;32m/tmp/ipykernel_118/3332998110.py\u001b[0m in \u001b[0;36m<module>\u001b[0;34m\u001b[0m\n\u001b[0;32m----> 1\u001b[0;31m \u001b[0mshow_ohlc\u001b[0m\u001b[0;34m(\u001b[0m\u001b[0;34m'AAPL'\u001b[0m\u001b[0;34m,\u001b[0m \u001b[0;34m'30min'\u001b[0m\u001b[0;34m,\u001b[0m \u001b[0mto\u001b[0m\u001b[0;34m=\u001b[0m\u001b[0;34m\"2021-08-12T04:00:00+00:00\"\u001b[0m\u001b[0;34m)\u001b[0m\u001b[0;34m\u001b[0m\u001b[0;34m\u001b[0m\u001b[0m\n\u001b[0m",
      "\u001b[0;32m/app/jupyter/scripts/ohlc.py\u001b[0m in \u001b[0;36mshow_ohlc\u001b[0;34m(ticker, interval, **kwargs)\u001b[0m\n\u001b[1;32m     14\u001b[0m     \u001b[0;32mif\u001b[0m \u001b[0;32mnot\u001b[0m \u001b[0mcont\u001b[0m\u001b[0;34m[\u001b[0m\u001b[0;34m'success'\u001b[0m\u001b[0;34m]\u001b[0m\u001b[0;34m:\u001b[0m\u001b[0;34m\u001b[0m\u001b[0;34m\u001b[0m\u001b[0m\n\u001b[1;32m     15\u001b[0m         \u001b[0mprint\u001b[0m\u001b[0;34m(\u001b[0m\u001b[0;34m'---Broker api response:'\u001b[0m\u001b[0;34m,\u001b[0m \u001b[0mcont\u001b[0m\u001b[0;34m)\u001b[0m\u001b[0;34m\u001b[0m\u001b[0;34m\u001b[0m\u001b[0m\n\u001b[0;32m---> 16\u001b[0;31m     \u001b[0mcandles\u001b[0m \u001b[0;34m=\u001b[0m \u001b[0mcont\u001b[0m\u001b[0;34m[\u001b[0m\u001b[0;34m'data'\u001b[0m\u001b[0;34m]\u001b[0m\u001b[0;34m[\u001b[0m\u001b[0;34m'candles'\u001b[0m\u001b[0;34m]\u001b[0m\u001b[0;34m\u001b[0m\u001b[0;34m\u001b[0m\u001b[0m\n\u001b[0m\u001b[1;32m     17\u001b[0m     \u001b[0;32mif\u001b[0m \u001b[0mlen\u001b[0m\u001b[0;34m(\u001b[0m\u001b[0mcandles\u001b[0m\u001b[0;34m)\u001b[0m \u001b[0;34m==\u001b[0m \u001b[0;36m0\u001b[0m\u001b[0;34m:\u001b[0m\u001b[0;34m\u001b[0m\u001b[0;34m\u001b[0m\u001b[0m\n\u001b[1;32m     18\u001b[0m         \u001b[0;32mraise\u001b[0m \u001b[0mException\u001b[0m\u001b[0;34m(\u001b[0m\u001b[0;34m\"no candles!\"\u001b[0m\u001b[0;34m)\u001b[0m\u001b[0;34m\u001b[0m\u001b[0;34m\u001b[0m\u001b[0m\n",
      "\u001b[0;31mTypeError\u001b[0m: string indices must be integers"
     ]
    }
   ],
   "source": [
    "show_ohlc('AAPL', '30min', to=\"2021-08-12T04:00:00+00:00\")"
   ]
  },
  {
   "cell_type": "code",
   "execution_count": 86,
   "id": "1ae09e02",
   "metadata": {},
   "outputs": [
    {
     "name": "stdout",
     "output_type": "stream",
     "text": [
      "{'data': {'candles': []}, 'success': True}\n"
     ]
    }
   ],
   "source": [
    "import requests\n",
    "import json\n",
    "ticker='AAPL'\n",
    "interval='30min'\n",
    "res = requests.get('http://pipkoff-api:80/api/v0/market/candles', \n",
    "       params={'ticker': ticker, 'interval': interval, })\n",
    "print(json.loads(res.content))"
   ]
  }
 ],
 "metadata": {
  "kernelspec": {
   "display_name": "Python 3 (ipykernel)",
   "language": "python",
   "name": "python3"
  },
  "language_info": {
   "codemirror_mode": {
    "name": "ipython",
    "version": 3
   },
   "file_extension": ".py",
   "mimetype": "text/x-python",
   "name": "python",
   "nbconvert_exporter": "python",
   "pygments_lexer": "ipython3",
   "version": "3.9.6"
  }
 },
 "nbformat": 4,
 "nbformat_minor": 5
}
