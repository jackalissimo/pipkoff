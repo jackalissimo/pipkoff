{
 "cells": [
  {
   "cell_type": "code",
   "execution_count": 129,
   "id": "14c25e1f",
   "metadata": {},
   "outputs": [],
   "source": [
    "%run scripts/ohlc.py\n"
   ]
  },
  {
   "cell_type": "code",
   "execution_count": 20,
   "id": "bafc5504",
   "metadata": {},
   "outputs": [
    {
     "data": {
      "text/plain": [
       "['1min',\n",
       " '2min',\n",
       " '3min',\n",
       " '5min',\n",
       " '10min',\n",
       " '15min',\n",
       " '30min',\n",
       " 'hour',\n",
       " 'day',\n",
       " 'week',\n",
       " 'month']"
      ]
     },
     "execution_count": 20,
     "metadata": {},
     "output_type": "execute_result"
    }
   ],
   "source": [
    "get_intervals()"
   ]
  },
  {
   "cell_type": "code",
   "execution_count": 10,
   "id": "a724a395",
   "metadata": {},
   "outputs": [
    {
     "data": {
      "text/plain": [
       "[{'id': 963,\n",
       "  'lot': 1,\n",
       "  'active': 1,\n",
       "  'isin': 'US67066G1040',\n",
       "  'name': 'NVIDIA',\n",
       "  'ticker': 'NVDA',\n",
       "  'type': 'Stock',\n",
       "  'figi': 'BBG000BBJQV0',\n",
       "  'min_price_increment': 0.01,\n",
       "  'currency': 'USD'}]"
      ]
     },
     "execution_count": 10,
     "metadata": {},
     "output_type": "execute_result"
    }
   ],
   "source": [
    "get_stock(name='NVIDIA')"
   ]
  },
  {
   "cell_type": "code",
   "execution_count": 27,
   "id": "6baabcfb",
   "metadata": {},
   "outputs": [
    {
     "data": {
      "application/vnd.jupyter.widget-view+json": {
       "model_id": "adad15f70170406cac8fa101e06a8291",
       "version_major": 2,
       "version_minor": 0
      },
      "text/plain": [
       "Figure(axes=[Axis(grid_color='gray', label='Date', label_offset='35px', scale=DateScale()), Axis(grid_color='g…"
      ]
     },
     "metadata": {},
     "output_type": "display_data"
    }
   ],
   "source": [
    "show_ohlc('NVDA', 'week')"
   ]
  },
  {
   "cell_type": "code",
   "execution_count": 12,
   "id": "307061ae",
   "metadata": {},
   "outputs": [
    {
     "data": {
      "application/vnd.jupyter.widget-view+json": {
       "model_id": "a5647d51ee0146589725996bea7fb438",
       "version_major": 2,
       "version_minor": 0
      },
      "text/plain": [
       "Figure(axes=[Axis(grid_color='gray', label='Date', label_offset='35px', scale=DateScale()), Axis(grid_color='g…"
      ]
     },
     "metadata": {},
     "output_type": "display_data"
    }
   ],
   "source": [
    "show_ohlc('NVDA', 'day')"
   ]
  },
  {
   "cell_type": "code",
   "execution_count": 5,
   "id": "99943d9d",
   "metadata": {},
   "outputs": [
    {
     "data": {
      "application/vnd.jupyter.widget-view+json": {
       "model_id": "92aef9c2e93f4ae298fb11e88a2eeeca",
       "version_major": 2,
       "version_minor": 0
      },
      "text/plain": [
       "Figure(axes=[Axis(grid_color='gray', label='Date', label_offset='35px', scale=DateScale()), Axis(grid_color='g…"
      ]
     },
     "metadata": {},
     "output_type": "display_data"
    }
   ],
   "source": [
    "%run scripts/ohlc.py\n",
    "show_ohlc('NVDA', '30min', to=\"2021-08-06T03:00:00+03:00\")"
   ]
  },
  {
   "cell_type": "code",
   "execution_count": 114,
   "id": "7082d60b",
   "metadata": {},
   "outputs": [
    {
     "name": "stdout",
     "output_type": "stream",
     "text": [
      "{'data': {'candles': []}, 'success': True}\n"
     ]
    }
   ],
   "source": [
    "import requests\n",
    "import json\n",
    "ticker='AAPL'\n",
    "interval='30min'\n",
    "res = requests.get('http://pipkoff-api:80/api/v0/market/candles', \n",
    "       params={'ticker': ticker, 'interval': interval, })\n",
    "print(json.loads(res.content))"
   ]
  }
 ],
 "metadata": {
  "kernelspec": {
   "display_name": "Python 3 (ipykernel)",
   "language": "python",
   "name": "python3"
  },
  "language_info": {
   "codemirror_mode": {
    "name": "ipython",
    "version": 3
   },
   "file_extension": ".py",
   "mimetype": "text/x-python",
   "name": "python",
   "nbconvert_exporter": "python",
   "pygments_lexer": "ipython3",
   "version": "3.9.6"
  }
 },
 "nbformat": 4,
 "nbformat_minor": 5
}
