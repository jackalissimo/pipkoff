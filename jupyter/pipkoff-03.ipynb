{
 "cells": [
  {
   "cell_type": "code",
   "execution_count": 21,
   "id": "1d412c8b",
   "metadata": {},
   "outputs": [],
   "source": [
    "%run scripts/ohlc.py\n"
   ]
  },
  {
   "cell_type": "code",
   "execution_count": 20,
   "id": "d93df9d3",
   "metadata": {},
   "outputs": [
    {
     "data": {
      "text/plain": [
       "['1min',\n",
       " '2min',\n",
       " '3min',\n",
       " '5min',\n",
       " '10min',\n",
       " '15min',\n",
       " '30min',\n",
       " 'hour',\n",
       " 'day',\n",
       " 'week',\n",
       " 'month']"
      ]
     },
     "execution_count": 20,
     "metadata": {},
     "output_type": "execute_result"
    }
   ],
   "source": [
    "get_intervals()"
   ]
  },
  {
   "cell_type": "code",
   "execution_count": 23,
   "id": "143f271f",
   "metadata": {},
   "outputs": [],
   "source": [
    "get_stock(name='tesla')"
   ]
  },
  {
   "cell_type": "code",
   "execution_count": 10,
   "id": "f1da31e8",
   "metadata": {},
   "outputs": [
    {
     "data": {
      "application/vnd.jupyter.widget-view+json": {
       "model_id": "c8fc814a14b8468c8a6101b2200c0e35",
       "version_major": 2,
       "version_minor": 0
      },
      "text/plain": [
       "Figure(axes=[Axis(grid_color='gray', label='Date', label_offset='35px', scale=DateScale()), Axis(grid_color='g…"
      ]
     },
     "metadata": {},
     "output_type": "display_data"
    }
   ],
   "source": [
    "show_ohlc('TSLA', 'week')"
   ]
  },
  {
   "cell_type": "code",
   "execution_count": 11,
   "id": "2683dd54",
   "metadata": {},
   "outputs": [
    {
     "data": {
      "application/vnd.jupyter.widget-view+json": {
       "model_id": "61b52e208a9b45179d06d64b792f7576",
       "version_major": 2,
       "version_minor": 0
      },
      "text/plain": [
       "Figure(axes=[Axis(grid_color='gray', label='Date', label_offset='35px', scale=DateScale()), Axis(grid_color='g…"
      ]
     },
     "metadata": {},
     "output_type": "display_data"
    }
   ],
   "source": [
    "show_ohlc('TSLA', 'day')"
   ]
  }
 ],
 "metadata": {
  "kernelspec": {
   "display_name": "Python 3 (ipykernel)",
   "language": "python",
   "name": "python3"
  },
  "language_info": {
   "codemirror_mode": {
    "name": "ipython",
    "version": 3
   },
   "file_extension": ".py",
   "mimetype": "text/x-python",
   "name": "python",
   "nbconvert_exporter": "python",
   "pygments_lexer": "ipython3",
   "version": "3.9.6"
  }
 },
 "nbformat": 4,
 "nbformat_minor": 5
}
